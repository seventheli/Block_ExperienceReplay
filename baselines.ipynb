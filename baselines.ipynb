{
 "cells": [
  {
   "cell_type": "code",
   "execution_count": 1,
   "id": "cca49bbe-7674-48b5-b9e6-800be52337ab",
   "metadata": {},
   "outputs": [],
   "source": [
    "import os\n",
    "import gym\n",
    "import tqdm\n",
    "import json\n",
    "import mlflow\n",
    "import pickle\n",
    "import zipfile\n",
    "import argparse\n",
    "import datetime\n",
    "from os import path\n",
    "from dynaconf import Dynaconf\n",
    "from ray.rllib.algorithms.dqn import DQN\n",
    "from algorithms_with_statistics.basic_dqn import DQNWithLogging\n",
    "from replay_buffer.ber import BlockReplayBuffer\n",
    "from ray.rllib.env.wrappers.atari_wrappers import wrap_deepmind\n",
    "from utils import init_ray, check_path, logs_with_timeout, convert_np_arrays\n",
    "from mlflow.exceptions import MlflowException\n",
    "from func_timeout import FunctionTimedOut"
   ]
  },
  {
   "cell_type": "code",
   "execution_count": 4,
   "id": "7d02b07b-ade2-47cb-8421-d9729a909ef8",
   "metadata": {},
   "outputs": [],
   "source": [
    "checkpoint_path = \"~/autodl-tmp/checkpoints/\"\n",
    "log_path = \"~/autodl-tmp/loggings/\""
   ]
  },
  {
   "cell_type": "code",
   "execution_count": 3,
   "id": "99dad7db-1398-4016-bc56-fc73f241ea04",
   "metadata": {},
   "outputs": [
    {
     "name": "stderr",
     "output_type": "stream",
     "text": [
      "2023-06-28 02:05:04,463\tWARNING utils.py:636 -- Detecting docker specified CPUs. In previous versions of Ray, CPU detection in containers was incorrect. Please ensure that Ray has enough CPUs allocated. As a temporary workaround to revert to the prior behavior, set `RAY_USE_MULTIPROCESSING_CPU_COUNT=1` as an env var before starting Ray. Set the env var: `RAY_DISABLE_DOCKER_CPU_WARNING=1` to mute this warning.\n",
      "2023-06-28 02:05:05,673\tINFO worker.py:1529 -- Started a local Ray instance. View the dashboard at \u001B[1m\u001B[32m127.0.0.1:8265 \u001B[39m\u001B[22m\n"
     ]
    }
   ],
   "source": [
    "init_ray(\"./ray_config.yml\")"
   ]
  },
  {
   "cell_type": "code",
   "execution_count": 5,
   "id": "873d17fa-f762-4a83-b36e-e979653c11b3",
   "metadata": {},
   "outputs": [],
   "source": [
    "settings = Dynaconf(envvar_prefix=\"DYNACONF\", settings_files=\"./settings/ex_experiments/AutoDL/atari_dqn.yaml\")"
   ]
  },
  {
   "cell_type": "code",
   "execution_count": 6,
   "id": "7b33480e-f5ba-4ff8-81d8-8aa4016bd4a1",
   "metadata": {},
   "outputs": [],
   "source": [
    "env = \"SpaceInvadersNoFrameskip\""
   ]
  },
  {
   "cell_type": "code",
   "execution_count": 7,
   "id": "62adbb9d-6482-4e18-a927-de5cfe0b3376",
   "metadata": {},
   "outputs": [],
   "source": [
    "run_name = \"DQN_ER_\" + datetime.datetime.now().strftime(\"%Y%m%d\")"
   ]
  },
  {
   "cell_type": "code",
   "execution_count": 8,
   "id": "643a6a40-e76a-4ae0-a7da-304646cb2a09",
   "metadata": {},
   "outputs": [],
   "source": [
    "# Check path available\n",
    "log_path = path.join(log_path, env)\n",
    "check_path(log_path)\n",
    "log_path = path.join(log_path, run_name)\n",
    "check_path(log_path)\n",
    "checkpoint_path = path.join(checkpoint_path, env)\n",
    "check_path(checkpoint_path)\n",
    "checkpoint_path = path.join(checkpoint_path, run_name)\n",
    "check_path(checkpoint_path)"
   ]
  },
  {
   "cell_type": "code",
   "execution_count": 9,
   "id": "310afb51-6584-4ee1-8d4b-6dce10f96e17",
   "metadata": {},
   "outputs": [
    {
     "data": {
      "text/plain": [
       "'~/autodl-tmp/checkpoints/SpaceInvadersNoFrameskip/DQN_ER_20230628'"
      ]
     },
     "execution_count": 9,
     "metadata": {},
     "output_type": "execute_result"
    }
   ],
   "source": [
    "checkpoint_path"
   ]
  },
  {
   "cell_type": "code",
   "execution_count": 10,
   "id": "96ca1af1-ed5f-4057-b4b0-102c5921dfe9",
   "metadata": {},
   "outputs": [],
   "source": [
    "hyper_parameters = settings[\"atari-basic-dqn\"].config.to_dict()"
   ]
  },
  {
   "cell_type": "code",
   "execution_count": 11,
   "id": "6dc19fbd-4d0f-47a2-916a-af62980d7fde",
   "metadata": {},
   "outputs": [],
   "source": [
    "# Set MLflow\n",
    "mlflow.set_tracking_uri(\"https://seventheli-mlflow.eu.cpolar.io/\")\n",
    "mlflow.set_experiment(experiment_name=\"Simple-%s\" % env)\n",
    "mlflow_client = mlflow.tracking.MlflowClient()"
   ]
  },
  {
   "cell_type": "code",
   "execution_count": 12,
   "id": "fd565613-7ab3-4d9c-b062-538e743b09f7",
   "metadata": {},
   "outputs": [],
   "source": [
    "mlflow_run = mlflow.start_run(run_name=run_name, tags={\"mlflow.user\": \"AutoDL\"})\n",
    "mlflow.log_params(hyper_parameters[\"replay_buffer_config\"])\n",
    "mlflow.log_params({key: hyper_parameters[key] for key in hyper_parameters.keys() if key not in [\"replay_buffer_config\"]})"
   ]
  },
  {
   "cell_type": "code",
   "execution_count": 13,
   "id": "a8eaf9de-ab12-400d-9e0e-414b59eba4cb",
   "metadata": {},
   "outputs": [
    {
     "name": "stderr",
     "output_type": "stream",
     "text": [
      "2023-06-28 02:05:48,603\tWARNING deprecation.py:47 -- DeprecationWarning: `algo = Algorithm(env='SpaceInvadersNoFrameskip', ...)` has been deprecated. Use `algo = AlgorithmConfig().environment('SpaceInvadersNoFrameskip').build()` instead. This will raise an error in the future!\n",
      "2023-06-28 02:05:48,630\tINFO algorithm.py:501 -- Current log_level is WARN. For more information, set 'log_level': 'INFO' / 'DEBUG' or use the -v and -vv flags.\n",
      "/root/miniconda3/envs/ber/lib/python3.9/site-packages/gym/envs/registration.py:511: UserWarning: \u001B[33mWARN: Using the latest versioned environment `SpaceInvadersNoFrameskip-v4` instead of the unversioned environment `SpaceInvadersNoFrameskip`\u001B[0m\n",
      "  logger.warn(\n",
      "A.L.E: Arcade Learning Environment (version 0.7.5+db37282)\n",
      "[Powered by Stella]\n",
      "2023-06-28 02:05:48,854\tWARNING env.py:159 -- Your env reset() method appears to take 'seed' or 'return_info' arguments. Note that these are not yet supported in RLlib. Seeding will take place using 'env.seed()' and the info dict will not be returned from reset.\n",
      "2023-06-28 02:05:48,878\tWARNING deprecation.py:47 -- DeprecationWarning: `FrameStack` has been deprecated. This will raise an error in the future!\n"
     ]
    }
   ],
   "source": [
    "algorithm = DQN(config=hyper_parameters, env=env)"
   ]
  },
  {
   "cell_type": "code",
   "execution_count": 14,
   "id": "73b347d5-632d-412e-b896-601de32fc7cf",
   "metadata": {},
   "outputs": [],
   "source": [
    "with open(os.path.join(checkpoint_path, \"%s config.pyl\" % run_name), \"wb\") as f:\n",
    "    _ = algorithm.config.to_dict()\n",
    "    _.pop(\"multiagent\")\n",
    "    pickle.dump(_, f)\n",
    "mlflow.log_artifacts(checkpoint_path)"
   ]
  },
  {
   "cell_type": "code",
   "execution_count": 15,
   "id": "0102e1e6-25ec-4956-b87b-6f670edcba21",
   "metadata": {},
   "outputs": [],
   "source": [
    "keys_to_extract = {\"episode_reward_max\", \"episode_reward_min\", \"episode_reward_mean\"}"
   ]
  },
  {
   "cell_type": "code",
   "execution_count": null,
   "id": "67eb57e0-1b51-4293-b5c8-28485a32cc0d",
   "metadata": {},
   "outputs": [
    {
     "name": "stderr",
     "output_type": "stream",
     "text": [
      "  0%|          | 0/999 [00:00<?, ?it/s]"
     ]
    }
   ],
   "source": [
    "for i in tqdm.tqdm(range(1, 1000)):\n",
    "    result = algorithm.train()\n",
    "    time_used = result[\"time_total_s\"]\n",
    "    evaluation = result.get(\"evaluation\", None)\n",
    "    sampler = result.get(\"sampler_results\", None)\n",
    "    try:\n",
    "        if evaluation is not None:\n",
    "            _save = {\"eval_\" + key: evaluation[key] for key in keys_to_extract if key in evaluation}\n",
    "            logs_with_timeout(_save, step=result[\"episodes_total\"])\n",
    "        if i % 10 == 0:\n",
    "            learner_data = result[\"info\"].copy()\n",
    "            if learner_data[\"learner\"].get(\"time_usage\", None) is not None:\n",
    "                logs_with_timeout(learner_data[\"learner\"].get(\"time_usage\"), step=result[\"episodes_total\"])\n",
    "            learner_data.pop(\"learner\")\n",
    "            logs_with_timeout(learner_data, step=result[\"episodes_total\"])\n",
    "            _save = {key: sampler[key] for key in keys_to_extract if key in sampler}\n",
    "            logs_with_timeout(_save, step=result[\"episodes_total\"])\n",
    "        if i % 100 == 0:\n",
    "            algorithm.save_checkpoint(checkpoint_path)\n",
    "    except FunctionTimedOut:\n",
    "        tqdm.tqdm.write(\"logging failed\")\n",
    "    except MlflowException:\n",
    "        tqdm.tqdm.write(\"logging failed\")\n",
    "    with open(path.join(log_path, str(i) + \".json\"), \"w\") as f:\n",
    "        result[\"config\"] = None\n",
    "        json.dump(convert_np_arrays(result), f)\n",
    "    if time_used >= 180000 or result[\"episode_reward_mean\"] > 30000:\n",
    "        break\n",
    "with zipfile.ZipFile(os.path.join(log_path, '%s_log.zip' % run_name), 'w') as f:\n",
    "    for file in os.listdir(log_path):\n",
    "        f.write(os.path.join(log_path, file))\n",
    "mlflow.log_artifacts(log_path)"
   ]
  },
  {
   "cell_type": "code",
   "execution_count": null,
   "id": "df347c10-1738-4ede-b2cf-db19a5c8b699",
   "metadata": {},
   "outputs": [],
   "source": []
  }
 ],
 "metadata": {
  "kernelspec": {
   "display_name": "Python [conda env:ber]",
   "language": "python",
   "name": "conda-env-ber-py"
  },
  "language_info": {
   "codemirror_mode": {
    "name": "ipython",
    "version": 3
   },
   "file_extension": ".py",
   "mimetype": "text/x-python",
   "name": "python",
   "nbconvert_exporter": "python",
   "pygments_lexer": "ipython3",
   "version": "3.9.16"
  }
 },
 "nbformat": 4,
 "nbformat_minor": 5
}
