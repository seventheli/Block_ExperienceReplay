{
 "cells": [
  {
   "cell_type": "code",
   "execution_count": 1,
   "outputs": [
    {
     "name": "stderr",
     "output_type": "stream",
     "text": [
      "/home/seventheli/conda/envs/hpc/lib/python3.9/site-packages/tqdm/auto.py:21: TqdmWarning: IProgress not found. Please update jupyter and ipywidgets. See https://ipywidgets.readthedocs.io/en/stable/user_install.html\n",
      "  from .autonotebook import tqdm as notebook_tqdm\n"
     ]
    }
   ],
   "source": [
    "import pandas as pd\n",
    "import numpy as np\n",
    "import matplotlib.pyplot as plt\n",
    "import pandas as pd\n",
    "import seaborn as sns\n",
    "import os\n",
    "import json\n",
    "import pickle\n",
    "from replay_buffer.ber import BlockReplayBuffer\n",
    "from ray.rllib.utils.replay_buffers import ReplayBuffer\n",
    "from replay_buffer.mpber import MultiAgentPrioritizedBlockReplayBuffer\n",
    "from ray.rllib.utils.replay_buffers.multi_agent_prioritized_replay_buffer import MultiAgentPrioritizedReplayBuffer"
   ],
   "metadata": {
    "collapsed": false,
    "ExecuteTime": {
     "end_time": "2023-08-16T01:13:15.800239Z",
     "start_time": "2023-08-16T01:13:14.544615800Z"
    }
   },
   "id": "2289c187"
  },
  {
   "cell_type": "code",
   "execution_count": 2,
   "outputs": [
    {
     "name": "stdout",
     "output_type": "stream",
     "text": [
      "config not existing for DQN_ER_SpaceInvadersNoFrameskip-v4_511703 in SpaceInvaders\n"
     ]
    }
   ],
   "source": [
    "def generate_configs(base_path):\n",
    "    configs = {}\n",
    "    for env in os.listdir(base_path):\n",
    "        env_path = os.path.join(base_path, env)\n",
    "        if os.path.isdir(env_path):\n",
    "            configs[env] = {}\n",
    "            for experiment in os.listdir(env_path):\n",
    "                experiment_path = os.path.join(env_path, experiment)\n",
    "                if os.path.isdir(experiment_path):\n",
    "                    config_file = os.path.join(experiment_path, experiment + \"_config.pyl\")\n",
    "                    if os.path.exists(config_file):\n",
    "                        with open(config_file, \"rb\") as f:\n",
    "                            configs[env][experiment] = pickle.load(f)\n",
    "                    else:\n",
    "                        print(\"config not existing for %s in %s\" % (experiment, env))\n",
    "    return configs\n",
    "\n",
    "base_path = \"/home/seventheli/JADE_checkpoints/\"\n",
    "configs = generate_configs(base_path)"
   ],
   "metadata": {
    "collapsed": false,
    "ExecuteTime": {
     "end_time": "2023-08-16T01:13:15.918423800Z",
     "start_time": "2023-08-16T01:13:15.803750300Z"
    }
   },
   "id": "f0f546a50930294c"
  },
  {
   "cell_type": "code",
   "execution_count": 3,
   "outputs": [],
   "source": [
    "data_path = \"./jade_apex.csv\""
   ],
   "metadata": {
    "collapsed": false,
    "ExecuteTime": {
     "end_time": "2023-08-16T01:13:15.918423800Z",
     "start_time": "2023-08-16T01:13:15.912404400Z"
    }
   },
   "id": "34a7d36c9ad25b7f"
  },
  {
   "cell_type": "code",
   "execution_count": 4,
   "outputs": [],
   "source": [
    "mapper = {\n",
    "    MultiAgentPrioritizedReplayBuffer: \"DPER\",\n",
    "    MultiAgentPrioritizedBlockReplayBuffer: \"DPBER\",\n",
    "}"
   ],
   "metadata": {
    "collapsed": false,
    "ExecuteTime": {
     "end_time": "2023-08-16T01:13:17.784320500Z",
     "start_time": "2023-08-16T01:13:17.778299700Z"
    }
   },
   "id": "9df21ae0f04c0371"
  },
  {
   "cell_type": "code",
   "execution_count": 5,
   "outputs": [],
   "source": [
    "data = pd.read_csv(data_path)\n",
    "data['env'] = data['exp'].str.split('_').apply(lambda x: x[2].replace(\"NoFrameskip-v4\", \"\"))\n",
    "data[\"buffer\"] = data.apply(lambda x: configs[x[\"env\"]][x[\"exp\"]].get(\"replay_buffer_config\")[\"type\"], axis=1)\n",
    "data[\"buffer\"] = data[\"buffer\"].apply(lambda x: mapper[x])\n",
    "data[\"size\"] = data.apply(lambda x: configs[x[\"env\"]][x[\"exp\"]].get(\"replay_buffer_config\").get(\"sub_buffer_size\", 1), axis=1)\n",
    "data.head()\n",
    "data.to_csv(\"./jade_apex.csv\", index=False)"
   ],
   "metadata": {
    "collapsed": false,
    "ExecuteTime": {
     "end_time": "2023-08-16T01:13:24.497824100Z",
     "start_time": "2023-08-16T01:13:18.326319Z"
    }
   },
   "id": "16bc8d7b6e7b50ac"
  },
  {
   "cell_type": "code",
   "execution_count": 6,
   "outputs": [],
   "source": [
    "max_exp = data.groupby(['env', 'buffer', 'size'])['exp'].apply(lambda x: x.value_counts().idxmax())\n",
    "\n",
    "filtered_data = data[data['exp'].isin(max_exp.values)].reset_index(drop=True)\n",
    "# Group by 'env', 'size', 'buffer' and aggregate the required metrics\n",
    "summary = filtered_data.groupby(['env', 'size', 'buffer']).agg({\n",
    "    'episode_reward_mean': 'last',  # Last episode reward mean\n",
    "    'num_env_steps_sampled': 'sum', # Total number of data points\n",
    "    'time_total_s': 'last',         # Total time\n",
    "    'exp': 'unique'                 # Experiment names\n",
    "}).reset_index()\n",
    "\n",
    "# Add a column to indicate the number of unique experiments for each group\n",
    "summary['num_experiments'] = summary['exp'].apply(len)\n",
    "\n",
    "# Verify if there's only 1 experiment for each group\n",
    "summary['single_experiment'] = summary['num_experiments'] == 1\n",
    "\n",
    "# Display the summary\n",
    "summary.single_experiment.value_counts()\n",
    "\n",
    "# remove too short\n",
    "filtered_data = filtered_data[filtered_data[\"exp\"].isin([i[0] for i in summary[summary[\"time_total_s\"]> 100000][\"exp\"]])]"
   ],
   "metadata": {
    "collapsed": false,
    "ExecuteTime": {
     "end_time": "2023-08-16T01:13:24.635744400Z",
     "start_time": "2023-08-16T01:13:24.506002800Z"
    }
   },
   "id": "40e2b3973c1eaadd"
  },
  {
   "cell_type": "code",
   "execution_count": 7,
   "outputs": [
    {
     "data": {
      "text/plain": "               env buffer   time_total_s\n0            Alien  DPBER  204351.006422\n1           Amidar  DPBER  204105.807429\n2          Assault  DPBER  203879.135070\n3          Asterix  DPBER  203833.018097\n4        Asteroids  DPBER  198468.946626\n5         Atlantis  DPBER  197720.897195\n6        BankHeist  DPBER  197800.318388\n7       BattleZone  DPBER  196290.366011\n8        BeamRider  DPBER  360056.846980\n9        BeamRider   DPER  310839.486917\n10         Berzerk  DPBER  194860.038991\n11         Bowling  DPBER  196110.805612\n12          Boxing  DPBER  194822.421570\n13        Breakout  DPBER  360005.137348\n14        Breakout   DPER  311496.415980\n15        Carnival  DPBER  190732.000553\n16       Centipede  DPBER  219726.903959\n17       Centipede   DPER  310665.513887\n18  ChopperCommand  DPBER  360056.667421\n19  ChopperCommand   DPER  312789.381193\n20    CrazyClimber  DPBER  360035.796872\n21    CrazyClimber   DPER  224211.537588\n22        Defender  DPBER  360005.586834\n23        Defender   DPER  211009.933968\n24    FishingDerby  DPBER  185575.355611\n25         Freeway  DPBER  184455.250798\n26       Frostbite  DPBER  177602.308171\n27           Qbert  DPBER  360048.023940\n28           Qbert   DPER  346848.098382\n29   SpaceInvaders  DPBER  360058.922261\n30   SpaceInvaders   DPER  310189.264479",
      "text/html": "<div>\n<style scoped>\n    .dataframe tbody tr th:only-of-type {\n        vertical-align: middle;\n    }\n\n    .dataframe tbody tr th {\n        vertical-align: top;\n    }\n\n    .dataframe thead th {\n        text-align: right;\n    }\n</style>\n<table border=\"1\" class=\"dataframe\">\n  <thead>\n    <tr style=\"text-align: right;\">\n      <th></th>\n      <th>env</th>\n      <th>buffer</th>\n      <th>time_total_s</th>\n    </tr>\n  </thead>\n  <tbody>\n    <tr>\n      <th>0</th>\n      <td>Alien</td>\n      <td>DPBER</td>\n      <td>204351.006422</td>\n    </tr>\n    <tr>\n      <th>1</th>\n      <td>Amidar</td>\n      <td>DPBER</td>\n      <td>204105.807429</td>\n    </tr>\n    <tr>\n      <th>2</th>\n      <td>Assault</td>\n      <td>DPBER</td>\n      <td>203879.135070</td>\n    </tr>\n    <tr>\n      <th>3</th>\n      <td>Asterix</td>\n      <td>DPBER</td>\n      <td>203833.018097</td>\n    </tr>\n    <tr>\n      <th>4</th>\n      <td>Asteroids</td>\n      <td>DPBER</td>\n      <td>198468.946626</td>\n    </tr>\n    <tr>\n      <th>5</th>\n      <td>Atlantis</td>\n      <td>DPBER</td>\n      <td>197720.897195</td>\n    </tr>\n    <tr>\n      <th>6</th>\n      <td>BankHeist</td>\n      <td>DPBER</td>\n      <td>197800.318388</td>\n    </tr>\n    <tr>\n      <th>7</th>\n      <td>BattleZone</td>\n      <td>DPBER</td>\n      <td>196290.366011</td>\n    </tr>\n    <tr>\n      <th>8</th>\n      <td>BeamRider</td>\n      <td>DPBER</td>\n      <td>360056.846980</td>\n    </tr>\n    <tr>\n      <th>9</th>\n      <td>BeamRider</td>\n      <td>DPER</td>\n      <td>310839.486917</td>\n    </tr>\n    <tr>\n      <th>10</th>\n      <td>Berzerk</td>\n      <td>DPBER</td>\n      <td>194860.038991</td>\n    </tr>\n    <tr>\n      <th>11</th>\n      <td>Bowling</td>\n      <td>DPBER</td>\n      <td>196110.805612</td>\n    </tr>\n    <tr>\n      <th>12</th>\n      <td>Boxing</td>\n      <td>DPBER</td>\n      <td>194822.421570</td>\n    </tr>\n    <tr>\n      <th>13</th>\n      <td>Breakout</td>\n      <td>DPBER</td>\n      <td>360005.137348</td>\n    </tr>\n    <tr>\n      <th>14</th>\n      <td>Breakout</td>\n      <td>DPER</td>\n      <td>311496.415980</td>\n    </tr>\n    <tr>\n      <th>15</th>\n      <td>Carnival</td>\n      <td>DPBER</td>\n      <td>190732.000553</td>\n    </tr>\n    <tr>\n      <th>16</th>\n      <td>Centipede</td>\n      <td>DPBER</td>\n      <td>219726.903959</td>\n    </tr>\n    <tr>\n      <th>17</th>\n      <td>Centipede</td>\n      <td>DPER</td>\n      <td>310665.513887</td>\n    </tr>\n    <tr>\n      <th>18</th>\n      <td>ChopperCommand</td>\n      <td>DPBER</td>\n      <td>360056.667421</td>\n    </tr>\n    <tr>\n      <th>19</th>\n      <td>ChopperCommand</td>\n      <td>DPER</td>\n      <td>312789.381193</td>\n    </tr>\n    <tr>\n      <th>20</th>\n      <td>CrazyClimber</td>\n      <td>DPBER</td>\n      <td>360035.796872</td>\n    </tr>\n    <tr>\n      <th>21</th>\n      <td>CrazyClimber</td>\n      <td>DPER</td>\n      <td>224211.537588</td>\n    </tr>\n    <tr>\n      <th>22</th>\n      <td>Defender</td>\n      <td>DPBER</td>\n      <td>360005.586834</td>\n    </tr>\n    <tr>\n      <th>23</th>\n      <td>Defender</td>\n      <td>DPER</td>\n      <td>211009.933968</td>\n    </tr>\n    <tr>\n      <th>24</th>\n      <td>FishingDerby</td>\n      <td>DPBER</td>\n      <td>185575.355611</td>\n    </tr>\n    <tr>\n      <th>25</th>\n      <td>Freeway</td>\n      <td>DPBER</td>\n      <td>184455.250798</td>\n    </tr>\n    <tr>\n      <th>26</th>\n      <td>Frostbite</td>\n      <td>DPBER</td>\n      <td>177602.308171</td>\n    </tr>\n    <tr>\n      <th>27</th>\n      <td>Qbert</td>\n      <td>DPBER</td>\n      <td>360048.023940</td>\n    </tr>\n    <tr>\n      <th>28</th>\n      <td>Qbert</td>\n      <td>DPER</td>\n      <td>346848.098382</td>\n    </tr>\n    <tr>\n      <th>29</th>\n      <td>SpaceInvaders</td>\n      <td>DPBER</td>\n      <td>360058.922261</td>\n    </tr>\n    <tr>\n      <th>30</th>\n      <td>SpaceInvaders</td>\n      <td>DPER</td>\n      <td>310189.264479</td>\n    </tr>\n  </tbody>\n</table>\n</div>"
     },
     "execution_count": 7,
     "metadata": {},
     "output_type": "execute_result"
    }
   ],
   "source": [
    "filtered_data.groupby(['env', \"buffer\"])[\"time_total_s\"].max().reset_index()"
   ],
   "metadata": {
    "collapsed": false,
    "ExecuteTime": {
     "end_time": "2023-08-16T01:13:24.707788400Z",
     "start_time": "2023-08-16T01:13:24.638744300Z"
    }
   },
   "id": "ffe19c7055f50f58"
  },
  {
   "cell_type": "code",
   "execution_count": 8,
   "outputs": [],
   "source": [
    "# Correctly compute the baseline difference for each environment\n",
    "baseline_diff_corrected = filtered_data.groupby('env').apply(\n",
    "    lambda x: x['episode_reward_mean'].max() - x['episode_reward_mean'].min()\n",
    ")\n",
    "\n",
    "# Using the corrected baseline difference to detect anomalies\n",
    "\n",
    "# Function to detect anomalies based on the corrected baseline\n",
    "def detect_anomalies_baseline(exp_data, env_baseline_diff):\n",
    "    exp_diff = abs(exp_data['episode_reward_mean'].max() - exp_data['episode_reward_mean'].min())\n",
    "    return exp_diff < abs(env_baseline_diff * 0.20)\n",
    "\n",
    "anomalies_baseline_corrected = []\n",
    "\n",
    "# Check each experiment in the data\n",
    "for env, env_data in filtered_data.groupby('env'):\n",
    "    env_baseline_diff = baseline_diff_corrected[env]\n",
    "    for exp, exp_data in env_data.groupby('exp'):\n",
    "        if detect_anomalies_baseline(exp_data, env_baseline_diff):\n",
    "            anomalies_baseline_corrected.append(exp)"
   ],
   "metadata": {
    "collapsed": false,
    "ExecuteTime": {
     "end_time": "2023-08-16T01:13:24.773856200Z",
     "start_time": "2023-08-16T01:13:24.670388800Z"
    }
   },
   "id": "a00577aeb6034f7"
  },
  {
   "cell_type": "code",
   "execution_count": 9,
   "outputs": [],
   "source": [
    "filtered_data = filtered_data[~filtered_data['exp'].isin(anomalies_baseline_corrected)].reset_index(drop=True)"
   ],
   "metadata": {
    "collapsed": false,
    "ExecuteTime": {
     "end_time": "2023-08-16T01:13:24.833894300Z",
     "start_time": "2023-08-16T01:13:24.765855900Z"
    }
   },
   "id": "13b7d97de22aa0ca"
  },
  {
   "cell_type": "code",
   "execution_count": 10,
   "outputs": [],
   "source": [
    "filtered_data.to_csv(\"jade_apex_filtered.csv\", index=False)"
   ],
   "metadata": {
    "collapsed": false,
    "ExecuteTime": {
     "end_time": "2023-08-16T01:13:26.879313700Z",
     "start_time": "2023-08-16T01:13:24.810858800Z"
    }
   },
   "id": "c9965904b70c173f"
  },
  {
   "cell_type": "code",
   "execution_count": 11,
   "outputs": [
    {
     "data": {
      "text/plain": "        episode_reward_max  episode_reward_min  episode_reward_mean  \\\n0                    100.0               100.0           100.000000   \n1                    100.0               100.0           100.000000   \n2                    990.0               100.0           176.562500   \n3                    990.0               100.0           201.666667   \n4                   1020.0               100.0           248.461538   \n...                    ...                 ...                  ...   \n267341              2150.0               515.0          1315.100000   \n267342              2150.0               515.0          1312.300000   \n267343              2260.0               515.0          1298.600000   \n267344              2260.0               365.0          1306.400000   \n267345              2260.0               365.0          1294.850000   \n\n        episodes_this_iter  num_env_steps_sampled  num_env_steps_trained  \\\n0                        8                  26880                      0   \n1                       16                  53280                  34816   \n2                        8                  78400                 436224   \n3                       10                 103680                 841728   \n4                       10                 128960                1250816   \n...                    ...                    ...                    ...   \n267341                   6              127910720              839138304   \n267342                   3              127935840              839302144   \n267343                   4              127960960              839467520   \n267344                   6              127986080              839630848   \n267345                   3              128011200              839795712   \n\n        num_agent_steps_sampled  num_agent_steps_trained  num_weight_syncs  \\\n0                         26880                        0               168   \n1                         53280                    34816               325   \n2                         78400                   436224               481   \n3                        103680                   841728               635   \n4                        128960                  1250816               792   \n...                         ...                      ...               ...   \n267341                127910720                839138304            781035   \n267342                127935840                839302144            781189   \n267343                127960960                839467520            781343   \n267344                127986080                839630848            781497   \n267345                128011200                839795712            781651   \n\n        num_target_updates  ...  learner_overall_throughput  \\\n0                      NaN  ...                         NaN   \n1                      NaN  ...                    9568.821   \n2                      8.0  ...                   11606.370   \n3                     16.0  ...                   11729.788   \n4                     24.0  ...                    9732.450   \n...                    ...  ...                         ...   \n267341             16723.0  ...                    4803.690   \n267342             16727.0  ...                    2319.787   \n267343             16730.0  ...                    6187.669   \n267344             16733.0  ...                    3916.615   \n267345             16737.0  ...                    4913.234   \n\n        target_net_update_time_ms  episodes_total  training_iteration  \\\n0                             NaN               8                   1   \n1                             NaN              24                   2   \n2                           7.245              32                   3   \n3                          10.832              42                   4   \n4                           6.973              52                   5   \n...                           ...             ...                 ...   \n267341                     10.027           29278                5071   \n267342                     11.075           29281                5072   \n267343                      5.276           29285                5073   \n267344                      8.996           29291                5074   \n267345                      9.886           29294                5075   \n\n        time_this_iter_s   time_total_s  size  \\\n0              31.200541      31.200541    16   \n1              30.138267      61.338807    16   \n2              40.167542     101.506349    16   \n3              40.386119     141.892469    16   \n4              40.425197     182.317666    16   \n...                  ...            ...   ...   \n267341         33.193845  359898.757336     8   \n267342         33.767208  359932.524544     8   \n267343         32.214917  359964.739461     8   \n267344         34.269591  359999.009052     8   \n267345         32.235319  360031.244370     8   \n\n                                                      exp            env  \\\n0              APEX_DDQN_AlienNoFrameskip-v4_DPBER_518437          Alien   \n1              APEX_DDQN_AlienNoFrameskip-v4_DPBER_518437          Alien   \n2              APEX_DDQN_AlienNoFrameskip-v4_DPBER_518437          Alien   \n3              APEX_DDQN_AlienNoFrameskip-v4_DPBER_518437          Alien   \n4              APEX_DDQN_AlienNoFrameskip-v4_DPBER_518437          Alien   \n...                                                   ...            ...   \n267341  APEX_DDQN_SpaceInvadersNoFrameskip-v4_DPBER_51...  SpaceInvaders   \n267342  APEX_DDQN_SpaceInvadersNoFrameskip-v4_DPBER_51...  SpaceInvaders   \n267343  APEX_DDQN_SpaceInvadersNoFrameskip-v4_DPBER_51...  SpaceInvaders   \n267344  APEX_DDQN_SpaceInvadersNoFrameskip-v4_DPBER_51...  SpaceInvaders   \n267345  APEX_DDQN_SpaceInvadersNoFrameskip-v4_DPBER_51...  SpaceInvaders   \n\n        buffer  \n0        DPBER  \n1        DPBER  \n2        DPBER  \n3        DPBER  \n4        DPBER  \n...        ...  \n267341   DPBER  \n267342   DPBER  \n267343   DPBER  \n267344   DPBER  \n267345   DPBER  \n\n[267346 rows x 28 columns]",
      "text/html": "<div>\n<style scoped>\n    .dataframe tbody tr th:only-of-type {\n        vertical-align: middle;\n    }\n\n    .dataframe tbody tr th {\n        vertical-align: top;\n    }\n\n    .dataframe thead th {\n        text-align: right;\n    }\n</style>\n<table border=\"1\" class=\"dataframe\">\n  <thead>\n    <tr style=\"text-align: right;\">\n      <th></th>\n      <th>episode_reward_max</th>\n      <th>episode_reward_min</th>\n      <th>episode_reward_mean</th>\n      <th>episodes_this_iter</th>\n      <th>num_env_steps_sampled</th>\n      <th>num_env_steps_trained</th>\n      <th>num_agent_steps_sampled</th>\n      <th>num_agent_steps_trained</th>\n      <th>num_weight_syncs</th>\n      <th>num_target_updates</th>\n      <th>...</th>\n      <th>learner_overall_throughput</th>\n      <th>target_net_update_time_ms</th>\n      <th>episodes_total</th>\n      <th>training_iteration</th>\n      <th>time_this_iter_s</th>\n      <th>time_total_s</th>\n      <th>size</th>\n      <th>exp</th>\n      <th>env</th>\n      <th>buffer</th>\n    </tr>\n  </thead>\n  <tbody>\n    <tr>\n      <th>0</th>\n      <td>100.0</td>\n      <td>100.0</td>\n      <td>100.000000</td>\n      <td>8</td>\n      <td>26880</td>\n      <td>0</td>\n      <td>26880</td>\n      <td>0</td>\n      <td>168</td>\n      <td>NaN</td>\n      <td>...</td>\n      <td>NaN</td>\n      <td>NaN</td>\n      <td>8</td>\n      <td>1</td>\n      <td>31.200541</td>\n      <td>31.200541</td>\n      <td>16</td>\n      <td>APEX_DDQN_AlienNoFrameskip-v4_DPBER_518437</td>\n      <td>Alien</td>\n      <td>DPBER</td>\n    </tr>\n    <tr>\n      <th>1</th>\n      <td>100.0</td>\n      <td>100.0</td>\n      <td>100.000000</td>\n      <td>16</td>\n      <td>53280</td>\n      <td>34816</td>\n      <td>53280</td>\n      <td>34816</td>\n      <td>325</td>\n      <td>NaN</td>\n      <td>...</td>\n      <td>9568.821</td>\n      <td>NaN</td>\n      <td>24</td>\n      <td>2</td>\n      <td>30.138267</td>\n      <td>61.338807</td>\n      <td>16</td>\n      <td>APEX_DDQN_AlienNoFrameskip-v4_DPBER_518437</td>\n      <td>Alien</td>\n      <td>DPBER</td>\n    </tr>\n    <tr>\n      <th>2</th>\n      <td>990.0</td>\n      <td>100.0</td>\n      <td>176.562500</td>\n      <td>8</td>\n      <td>78400</td>\n      <td>436224</td>\n      <td>78400</td>\n      <td>436224</td>\n      <td>481</td>\n      <td>8.0</td>\n      <td>...</td>\n      <td>11606.370</td>\n      <td>7.245</td>\n      <td>32</td>\n      <td>3</td>\n      <td>40.167542</td>\n      <td>101.506349</td>\n      <td>16</td>\n      <td>APEX_DDQN_AlienNoFrameskip-v4_DPBER_518437</td>\n      <td>Alien</td>\n      <td>DPBER</td>\n    </tr>\n    <tr>\n      <th>3</th>\n      <td>990.0</td>\n      <td>100.0</td>\n      <td>201.666667</td>\n      <td>10</td>\n      <td>103680</td>\n      <td>841728</td>\n      <td>103680</td>\n      <td>841728</td>\n      <td>635</td>\n      <td>16.0</td>\n      <td>...</td>\n      <td>11729.788</td>\n      <td>10.832</td>\n      <td>42</td>\n      <td>4</td>\n      <td>40.386119</td>\n      <td>141.892469</td>\n      <td>16</td>\n      <td>APEX_DDQN_AlienNoFrameskip-v4_DPBER_518437</td>\n      <td>Alien</td>\n      <td>DPBER</td>\n    </tr>\n    <tr>\n      <th>4</th>\n      <td>1020.0</td>\n      <td>100.0</td>\n      <td>248.461538</td>\n      <td>10</td>\n      <td>128960</td>\n      <td>1250816</td>\n      <td>128960</td>\n      <td>1250816</td>\n      <td>792</td>\n      <td>24.0</td>\n      <td>...</td>\n      <td>9732.450</td>\n      <td>6.973</td>\n      <td>52</td>\n      <td>5</td>\n      <td>40.425197</td>\n      <td>182.317666</td>\n      <td>16</td>\n      <td>APEX_DDQN_AlienNoFrameskip-v4_DPBER_518437</td>\n      <td>Alien</td>\n      <td>DPBER</td>\n    </tr>\n    <tr>\n      <th>...</th>\n      <td>...</td>\n      <td>...</td>\n      <td>...</td>\n      <td>...</td>\n      <td>...</td>\n      <td>...</td>\n      <td>...</td>\n      <td>...</td>\n      <td>...</td>\n      <td>...</td>\n      <td>...</td>\n      <td>...</td>\n      <td>...</td>\n      <td>...</td>\n      <td>...</td>\n      <td>...</td>\n      <td>...</td>\n      <td>...</td>\n      <td>...</td>\n      <td>...</td>\n      <td>...</td>\n    </tr>\n    <tr>\n      <th>267341</th>\n      <td>2150.0</td>\n      <td>515.0</td>\n      <td>1315.100000</td>\n      <td>6</td>\n      <td>127910720</td>\n      <td>839138304</td>\n      <td>127910720</td>\n      <td>839138304</td>\n      <td>781035</td>\n      <td>16723.0</td>\n      <td>...</td>\n      <td>4803.690</td>\n      <td>10.027</td>\n      <td>29278</td>\n      <td>5071</td>\n      <td>33.193845</td>\n      <td>359898.757336</td>\n      <td>8</td>\n      <td>APEX_DDQN_SpaceInvadersNoFrameskip-v4_DPBER_51...</td>\n      <td>SpaceInvaders</td>\n      <td>DPBER</td>\n    </tr>\n    <tr>\n      <th>267342</th>\n      <td>2150.0</td>\n      <td>515.0</td>\n      <td>1312.300000</td>\n      <td>3</td>\n      <td>127935840</td>\n      <td>839302144</td>\n      <td>127935840</td>\n      <td>839302144</td>\n      <td>781189</td>\n      <td>16727.0</td>\n      <td>...</td>\n      <td>2319.787</td>\n      <td>11.075</td>\n      <td>29281</td>\n      <td>5072</td>\n      <td>33.767208</td>\n      <td>359932.524544</td>\n      <td>8</td>\n      <td>APEX_DDQN_SpaceInvadersNoFrameskip-v4_DPBER_51...</td>\n      <td>SpaceInvaders</td>\n      <td>DPBER</td>\n    </tr>\n    <tr>\n      <th>267343</th>\n      <td>2260.0</td>\n      <td>515.0</td>\n      <td>1298.600000</td>\n      <td>4</td>\n      <td>127960960</td>\n      <td>839467520</td>\n      <td>127960960</td>\n      <td>839467520</td>\n      <td>781343</td>\n      <td>16730.0</td>\n      <td>...</td>\n      <td>6187.669</td>\n      <td>5.276</td>\n      <td>29285</td>\n      <td>5073</td>\n      <td>32.214917</td>\n      <td>359964.739461</td>\n      <td>8</td>\n      <td>APEX_DDQN_SpaceInvadersNoFrameskip-v4_DPBER_51...</td>\n      <td>SpaceInvaders</td>\n      <td>DPBER</td>\n    </tr>\n    <tr>\n      <th>267344</th>\n      <td>2260.0</td>\n      <td>365.0</td>\n      <td>1306.400000</td>\n      <td>6</td>\n      <td>127986080</td>\n      <td>839630848</td>\n      <td>127986080</td>\n      <td>839630848</td>\n      <td>781497</td>\n      <td>16733.0</td>\n      <td>...</td>\n      <td>3916.615</td>\n      <td>8.996</td>\n      <td>29291</td>\n      <td>5074</td>\n      <td>34.269591</td>\n      <td>359999.009052</td>\n      <td>8</td>\n      <td>APEX_DDQN_SpaceInvadersNoFrameskip-v4_DPBER_51...</td>\n      <td>SpaceInvaders</td>\n      <td>DPBER</td>\n    </tr>\n    <tr>\n      <th>267345</th>\n      <td>2260.0</td>\n      <td>365.0</td>\n      <td>1294.850000</td>\n      <td>3</td>\n      <td>128011200</td>\n      <td>839795712</td>\n      <td>128011200</td>\n      <td>839795712</td>\n      <td>781651</td>\n      <td>16737.0</td>\n      <td>...</td>\n      <td>4913.234</td>\n      <td>9.886</td>\n      <td>29294</td>\n      <td>5075</td>\n      <td>32.235319</td>\n      <td>360031.244370</td>\n      <td>8</td>\n      <td>APEX_DDQN_SpaceInvadersNoFrameskip-v4_DPBER_51...</td>\n      <td>SpaceInvaders</td>\n      <td>DPBER</td>\n    </tr>\n  </tbody>\n</table>\n<p>267346 rows × 28 columns</p>\n</div>"
     },
     "execution_count": 11,
     "metadata": {},
     "output_type": "execute_result"
    }
   ],
   "source": [
    "filtered_data"
   ],
   "metadata": {
    "collapsed": false,
    "ExecuteTime": {
     "end_time": "2023-08-16T01:13:26.926460Z",
     "start_time": "2023-08-16T01:13:26.879313700Z"
    }
   },
   "id": "11a0a598c0f3ddd"
  },
  {
   "cell_type": "code",
   "execution_count": null,
   "outputs": [],
   "source": [],
   "metadata": {
    "collapsed": false
   },
   "id": "b6b500fe5a9ec0e4"
  }
 ],
 "metadata": {
  "kernelspec": {
   "display_name": "hpc",
   "language": "python",
   "name": "hpc"
  },
  "language_info": {
   "codemirror_mode": {
    "name": "ipython",
    "version": 3
   },
   "file_extension": ".py",
   "mimetype": "text/x-python",
   "name": "python",
   "nbconvert_exporter": "python",
   "pygments_lexer": "ipython3",
   "version": "3.9.17"
  }
 },
 "nbformat": 4,
 "nbformat_minor": 5
}
