{
 "cells": [
  {
   "cell_type": "code",
   "execution_count": 1,
   "outputs": [
    {
     "name": "stderr",
     "output_type": "stream",
     "text": [
      "/home/seventheli/conda/envs/hpc/lib/python3.9/site-packages/tqdm/auto.py:21: TqdmWarning: IProgress not found. Please update jupyter and ipywidgets. See https://ipywidgets.readthedocs.io/en/stable/user_install.html\n",
      "  from .autonotebook import tqdm as notebook_tqdm\n"
     ]
    }
   ],
   "source": [
    "import pandas as pd\n",
    "import numpy as np\n",
    "import matplotlib.pyplot as plt\n",
    "import pandas as pd\n",
    "import seaborn as sns\n",
    "import os\n",
    "import json\n",
    "import pickle\n",
    "from replay_buffer.ber import BlockReplayBuffer\n",
    "from ray.rllib.utils.replay_buffers import ReplayBuffer\n",
    "from replay_buffer.mpber import MultiAgentPrioritizedBlockReplayBuffer\n",
    "from ray.rllib.utils.replay_buffers.multi_agent_prioritized_replay_buffer import MultiAgentPrioritizedReplayBuffer"
   ],
   "metadata": {
    "collapsed": false,
    "ExecuteTime": {
     "end_time": "2023-08-13T03:03:54.787247200Z",
     "start_time": "2023-08-13T03:03:53.980115200Z"
    }
   },
   "id": "2289c187"
  },
  {
   "cell_type": "code",
   "execution_count": 2,
   "outputs": [
    {
     "name": "stdout",
     "output_type": "stream",
     "text": [
      "config not existing for DQN_ER_SpaceInvadersNoFrameskip-v4_511703 in SpaceInvaders\n"
     ]
    }
   ],
   "source": [
    "def generate_configs(base_path):\n",
    "    configs = {}\n",
    "    for env in os.listdir(base_path):\n",
    "        env_path = os.path.join(base_path, env)\n",
    "        if os.path.isdir(env_path):\n",
    "            configs[env] = {}\n",
    "            for experiment in os.listdir(env_path):\n",
    "                experiment_path = os.path.join(env_path, experiment)\n",
    "                if os.path.isdir(experiment_path):\n",
    "                    config_file = os.path.join(experiment_path, experiment + \"_config.pyl\")\n",
    "                    if os.path.exists(config_file):\n",
    "                        with open(config_file, \"rb\") as f:\n",
    "                            configs[env][experiment] = pickle.load(f)\n",
    "                    else:\n",
    "                        print(\"config not existing for %s in %s\" % (experiment, env))\n",
    "    return configs\n",
    "\n",
    "base_path = \"/home/seventheli/JADE_checkpoints/\"\n",
    "configs = generate_configs(base_path)"
   ],
   "metadata": {
    "collapsed": false,
    "ExecuteTime": {
     "end_time": "2023-08-13T03:03:54.832761200Z",
     "start_time": "2023-08-13T03:03:54.783221500Z"
    }
   },
   "id": "f0f546a50930294c"
  },
  {
   "cell_type": "code",
   "execution_count": 3,
   "outputs": [],
   "source": [
    "data_path = \"./jade_apex.csv\""
   ],
   "metadata": {
    "collapsed": false,
    "ExecuteTime": {
     "end_time": "2023-08-13T03:03:54.870972900Z",
     "start_time": "2023-08-13T03:03:54.814767900Z"
    }
   },
   "id": "34a7d36c9ad25b7f"
  },
  {
   "cell_type": "code",
   "execution_count": 4,
   "outputs": [],
   "source": [
    "mapper = {\n",
    "    MultiAgentPrioritizedReplayBuffer: \"DPER\",\n",
    "    MultiAgentPrioritizedBlockReplayBuffer: \"DPBER\",\n",
    "}"
   ],
   "metadata": {
    "collapsed": false,
    "ExecuteTime": {
     "end_time": "2023-08-13T03:03:55.268855300Z",
     "start_time": "2023-08-13T03:03:55.268855300Z"
    }
   },
   "id": "9df21ae0f04c0371"
  },
  {
   "cell_type": "code",
   "execution_count": 5,
   "outputs": [],
   "source": [
    "data = pd.read_csv(data_path)\n",
    "data['env'] = data['exp'].str.split('_').apply(lambda x: x[2].replace(\"NoFrameskip-v4\", \"\"))\n",
    "data[\"buffer\"] = data.apply(lambda x: configs[x[\"env\"]][x[\"exp\"]].get(\"replay_buffer_config\")[\"type\"], axis=1)\n",
    "data[\"buffer\"] = data[\"buffer\"].apply(lambda x: mapper[x])\n",
    "data[\"size\"] = data.apply(lambda x: configs[x[\"env\"]][x[\"exp\"]].get(\"replay_buffer_config\").get(\"sub_buffer_size\", 1), axis=1)\n",
    "data.head()\n",
    "data.to_csv(\"./jade_apex.csv\", index=False)"
   ],
   "metadata": {
    "collapsed": false,
    "ExecuteTime": {
     "end_time": "2023-08-13T03:03:59.243609200Z",
     "start_time": "2023-08-13T03:03:55.304853800Z"
    }
   },
   "id": "16bc8d7b6e7b50ac"
  },
  {
   "cell_type": "code",
   "execution_count": 6,
   "outputs": [],
   "source": [
    "max_exp = data.groupby(['env', 'buffer', 'size'])['exp'].apply(lambda x: x.value_counts().idxmax())\n",
    "\n",
    "filtered_data = data[data['exp'].isin(max_exp.values)].reset_index(drop=True)\n",
    "# Group by 'env', 'size', 'buffer' and aggregate the required metrics\n",
    "summary = filtered_data.groupby(['env', 'size', 'buffer']).agg({\n",
    "    'episode_reward_mean': 'last',  # Last episode reward mean\n",
    "    'num_env_steps_sampled': 'sum', # Total number of data points\n",
    "    'time_total_s': 'last',         # Total time\n",
    "    'exp': 'unique'                 # Experiment names\n",
    "}).reset_index()\n",
    "\n",
    "# Add a column to indicate the number of unique experiments for each group\n",
    "summary['num_experiments'] = summary['exp'].apply(len)\n",
    "\n",
    "# Verify if there's only 1 experiment for each group\n",
    "summary['single_experiment'] = summary['num_experiments'] == 1\n",
    "\n",
    "# Display the summary\n",
    "summary.single_experiment.value_counts()\n",
    "\n",
    "# remove too short\n",
    "filtered_data = filtered_data[filtered_data[\"exp\"].isin([i[0] for i in summary[summary[\"time_total_s\"]> 300000][\"exp\"]])]"
   ],
   "metadata": {
    "collapsed": false,
    "ExecuteTime": {
     "end_time": "2023-08-13T03:03:59.342355200Z",
     "start_time": "2023-08-13T03:03:59.251612900Z"
    }
   },
   "id": "40e2b3973c1eaadd"
  },
  {
   "cell_type": "code",
   "execution_count": 7,
   "outputs": [
    {
     "data": {
      "text/plain": "               env buffer   time_total_s\n0        BeamRider  DPBER  360056.846980\n1        BeamRider   DPER  310839.486917\n2         Breakout  DPBER  360005.137348\n3         Breakout   DPER  311496.415980\n4        Centipede   DPER  310665.513887\n5   ChopperCommand  DPBER  360056.667421\n6   ChopperCommand   DPER  312789.381193\n7     CrazyClimber  DPBER  360035.796872\n8         Defender  DPBER  360005.586834\n9            Qbert  DPBER  360048.023940\n10           Qbert   DPER  346848.098382\n11   SpaceInvaders  DPBER  360058.922261\n12   SpaceInvaders   DPER  310189.264479",
      "text/html": "<div>\n<style scoped>\n    .dataframe tbody tr th:only-of-type {\n        vertical-align: middle;\n    }\n\n    .dataframe tbody tr th {\n        vertical-align: top;\n    }\n\n    .dataframe thead th {\n        text-align: right;\n    }\n</style>\n<table border=\"1\" class=\"dataframe\">\n  <thead>\n    <tr style=\"text-align: right;\">\n      <th></th>\n      <th>env</th>\n      <th>buffer</th>\n      <th>time_total_s</th>\n    </tr>\n  </thead>\n  <tbody>\n    <tr>\n      <th>0</th>\n      <td>BeamRider</td>\n      <td>DPBER</td>\n      <td>360056.846980</td>\n    </tr>\n    <tr>\n      <th>1</th>\n      <td>BeamRider</td>\n      <td>DPER</td>\n      <td>310839.486917</td>\n    </tr>\n    <tr>\n      <th>2</th>\n      <td>Breakout</td>\n      <td>DPBER</td>\n      <td>360005.137348</td>\n    </tr>\n    <tr>\n      <th>3</th>\n      <td>Breakout</td>\n      <td>DPER</td>\n      <td>311496.415980</td>\n    </tr>\n    <tr>\n      <th>4</th>\n      <td>Centipede</td>\n      <td>DPER</td>\n      <td>310665.513887</td>\n    </tr>\n    <tr>\n      <th>5</th>\n      <td>ChopperCommand</td>\n      <td>DPBER</td>\n      <td>360056.667421</td>\n    </tr>\n    <tr>\n      <th>6</th>\n      <td>ChopperCommand</td>\n      <td>DPER</td>\n      <td>312789.381193</td>\n    </tr>\n    <tr>\n      <th>7</th>\n      <td>CrazyClimber</td>\n      <td>DPBER</td>\n      <td>360035.796872</td>\n    </tr>\n    <tr>\n      <th>8</th>\n      <td>Defender</td>\n      <td>DPBER</td>\n      <td>360005.586834</td>\n    </tr>\n    <tr>\n      <th>9</th>\n      <td>Qbert</td>\n      <td>DPBER</td>\n      <td>360048.023940</td>\n    </tr>\n    <tr>\n      <th>10</th>\n      <td>Qbert</td>\n      <td>DPER</td>\n      <td>346848.098382</td>\n    </tr>\n    <tr>\n      <th>11</th>\n      <td>SpaceInvaders</td>\n      <td>DPBER</td>\n      <td>360058.922261</td>\n    </tr>\n    <tr>\n      <th>12</th>\n      <td>SpaceInvaders</td>\n      <td>DPER</td>\n      <td>310189.264479</td>\n    </tr>\n  </tbody>\n</table>\n</div>"
     },
     "execution_count": 7,
     "metadata": {},
     "output_type": "execute_result"
    }
   ],
   "source": [
    "filtered_data.groupby(['env', \"buffer\"])[\"time_total_s\"].max().reset_index()"
   ],
   "metadata": {
    "collapsed": false,
    "ExecuteTime": {
     "end_time": "2023-08-13T03:04:40.781811500Z",
     "start_time": "2023-08-13T03:04:40.762413200Z"
    }
   },
   "id": "ffe19c7055f50f58"
  },
  {
   "cell_type": "code",
   "execution_count": 8,
   "outputs": [],
   "source": [
    "# Correctly compute the baseline difference for each environment\n",
    "baseline_diff_corrected = filtered_data.groupby('env').apply(\n",
    "    lambda x: x['episode_reward_mean'].max() - x['episode_reward_mean'].min()\n",
    ")\n",
    "\n",
    "# Using the corrected baseline difference to detect anomalies\n",
    "\n",
    "# Function to detect anomalies based on the corrected baseline\n",
    "def detect_anomalies_baseline(exp_data, env_baseline_diff):\n",
    "    exp_diff = abs(exp_data['episode_reward_mean'].max() - exp_data['episode_reward_mean'].min())\n",
    "    return exp_diff < abs(env_baseline_diff * 0.20)\n",
    "\n",
    "anomalies_baseline_corrected = []\n",
    "\n",
    "# Check each experiment in the data\n",
    "for env, env_data in filtered_data.groupby('env'):\n",
    "    env_baseline_diff = baseline_diff_corrected[env]\n",
    "    for exp, exp_data in env_data.groupby('exp'):\n",
    "        if detect_anomalies_baseline(exp_data, env_baseline_diff):\n",
    "            anomalies_baseline_corrected.append(exp)"
   ],
   "metadata": {
    "collapsed": false,
    "ExecuteTime": {
     "end_time": "2023-08-13T03:06:02.739618Z",
     "start_time": "2023-08-13T03:06:02.675874700Z"
    }
   },
   "id": "a00577aeb6034f7"
  },
  {
   "cell_type": "code",
   "execution_count": 9,
   "outputs": [],
   "source": [
    "filtered_data = filtered_data[~filtered_data['exp'].isin(anomalies_baseline_corrected)].reset_index(drop=True)"
   ],
   "metadata": {
    "collapsed": false,
    "ExecuteTime": {
     "end_time": "2023-08-13T03:06:03.303322100Z",
     "start_time": "2023-08-13T03:06:03.277809300Z"
    }
   },
   "id": "13b7d97de22aa0ca"
  },
  {
   "cell_type": "code",
   "execution_count": 10,
   "outputs": [],
   "source": [
    "filtered_data.to_csv(\"jade_apex_filtered.csv\", index=False)"
   ],
   "metadata": {
    "collapsed": false,
    "ExecuteTime": {
     "end_time": "2023-08-13T03:06:05.220807500Z",
     "start_time": "2023-08-13T03:06:04.145641300Z"
    }
   },
   "id": "c9965904b70c173f"
  },
  {
   "cell_type": "code",
   "execution_count": 11,
   "outputs": [
    {
     "data": {
      "text/plain": "        episode_reward_max  episode_reward_min  episode_reward_mean  \\\n0                      NaN                 NaN                  NaN   \n1                    756.0               352.0           552.000000   \n2                    756.0               352.0           602.666667   \n3                    756.0               308.0           562.769231   \n4                    756.0               308.0           534.250000   \n...                    ...                 ...                  ...   \n161475              2150.0               515.0          1315.100000   \n161476              2150.0               515.0          1312.300000   \n161477              2260.0               515.0          1298.600000   \n161478              2260.0               365.0          1306.400000   \n161479              2260.0               365.0          1294.850000   \n\n        episodes_this_iter  num_env_steps_sampled  num_env_steps_trained  \\\n0                        0                  25760                      0   \n1                        4                  53280                    512   \n2                        5                  78400                 882176   \n3                        4                 104000                1701376   \n4                        3                 129440                2515456   \n...                    ...                    ...                    ...   \n161475                   6              127910720              839138304   \n161476                   3              127935840              839302144   \n161477                   4              127960960              839467520   \n161478                   6              127986080              839630848   \n161479                   3              128011200              839795712   \n\n        num_agent_steps_sampled  num_agent_steps_trained  num_weight_syncs  \\\n0                         25760                        0               161   \n1                         53280                      512               329   \n2                         78400                   882176               477   \n3                        104000                  1701376               637   \n4                        129440                  2515456               791   \n...                         ...                      ...               ...   \n161475                127910720                839138304            781035   \n161476                127935840                839302144            781189   \n161477                127960960                839467520            781343   \n161478                127986080                839630848            781497   \n161479                128011200                839795712            781651   \n\n        num_target_updates  ...  learner_overall_throughput  \\\n0                      NaN  ...                         NaN   \n1                      NaN  ...                       7.782   \n2                     17.0  ...                    8859.413   \n3                     33.0  ...                   10339.313   \n4                     50.0  ...                   13411.639   \n...                    ...  ...                         ...   \n161475             16723.0  ...                    4803.690   \n161476             16727.0  ...                    2319.787   \n161477             16730.0  ...                    6187.669   \n161478             16733.0  ...                    3916.615   \n161479             16737.0  ...                    4913.234   \n\n        target_net_update_time_ms  episodes_total  training_iteration  \\\n0                             NaN               0                   1   \n1                             NaN               4                   2   \n2                          11.982               9                   3   \n3                           4.106              13                   4   \n4                           4.650              16                   5   \n...                           ...             ...                 ...   \n161475                     10.027           29278                5071   \n161476                     11.075           29281                5072   \n161477                      5.276           29285                5073   \n161478                      8.996           29291                5074   \n161479                      9.886           29294                5075   \n\n        time_this_iter_s   time_total_s  size  \\\n0              31.125418      31.125418    32   \n1              33.528656      64.654073    32   \n2              98.113581     162.767654    32   \n3              87.369431     250.137085    32   \n4              88.745094     338.882179    32   \n...                  ...            ...   ...   \n161475         33.193845  359898.757336     8   \n161476         33.767208  359932.524544     8   \n161477         32.214917  359964.739461     8   \n161478         34.269591  359999.009052     8   \n161479         32.235319  360031.244370     8   \n\n                                                      exp            env  \\\n0          APEX_DDQN_BeamRiderNoFrameskip-v4_DPBER_514031      BeamRider   \n1          APEX_DDQN_BeamRiderNoFrameskip-v4_DPBER_514031      BeamRider   \n2          APEX_DDQN_BeamRiderNoFrameskip-v4_DPBER_514031      BeamRider   \n3          APEX_DDQN_BeamRiderNoFrameskip-v4_DPBER_514031      BeamRider   \n4          APEX_DDQN_BeamRiderNoFrameskip-v4_DPBER_514031      BeamRider   \n...                                                   ...            ...   \n161475  APEX_DDQN_SpaceInvadersNoFrameskip-v4_DPBER_51...  SpaceInvaders   \n161476  APEX_DDQN_SpaceInvadersNoFrameskip-v4_DPBER_51...  SpaceInvaders   \n161477  APEX_DDQN_SpaceInvadersNoFrameskip-v4_DPBER_51...  SpaceInvaders   \n161478  APEX_DDQN_SpaceInvadersNoFrameskip-v4_DPBER_51...  SpaceInvaders   \n161479  APEX_DDQN_SpaceInvadersNoFrameskip-v4_DPBER_51...  SpaceInvaders   \n\n        buffer  \n0        DPBER  \n1        DPBER  \n2        DPBER  \n3        DPBER  \n4        DPBER  \n...        ...  \n161475   DPBER  \n161476   DPBER  \n161477   DPBER  \n161478   DPBER  \n161479   DPBER  \n\n[161480 rows x 28 columns]",
      "text/html": "<div>\n<style scoped>\n    .dataframe tbody tr th:only-of-type {\n        vertical-align: middle;\n    }\n\n    .dataframe tbody tr th {\n        vertical-align: top;\n    }\n\n    .dataframe thead th {\n        text-align: right;\n    }\n</style>\n<table border=\"1\" class=\"dataframe\">\n  <thead>\n    <tr style=\"text-align: right;\">\n      <th></th>\n      <th>episode_reward_max</th>\n      <th>episode_reward_min</th>\n      <th>episode_reward_mean</th>\n      <th>episodes_this_iter</th>\n      <th>num_env_steps_sampled</th>\n      <th>num_env_steps_trained</th>\n      <th>num_agent_steps_sampled</th>\n      <th>num_agent_steps_trained</th>\n      <th>num_weight_syncs</th>\n      <th>num_target_updates</th>\n      <th>...</th>\n      <th>learner_overall_throughput</th>\n      <th>target_net_update_time_ms</th>\n      <th>episodes_total</th>\n      <th>training_iteration</th>\n      <th>time_this_iter_s</th>\n      <th>time_total_s</th>\n      <th>size</th>\n      <th>exp</th>\n      <th>env</th>\n      <th>buffer</th>\n    </tr>\n  </thead>\n  <tbody>\n    <tr>\n      <th>0</th>\n      <td>NaN</td>\n      <td>NaN</td>\n      <td>NaN</td>\n      <td>0</td>\n      <td>25760</td>\n      <td>0</td>\n      <td>25760</td>\n      <td>0</td>\n      <td>161</td>\n      <td>NaN</td>\n      <td>...</td>\n      <td>NaN</td>\n      <td>NaN</td>\n      <td>0</td>\n      <td>1</td>\n      <td>31.125418</td>\n      <td>31.125418</td>\n      <td>32</td>\n      <td>APEX_DDQN_BeamRiderNoFrameskip-v4_DPBER_514031</td>\n      <td>BeamRider</td>\n      <td>DPBER</td>\n    </tr>\n    <tr>\n      <th>1</th>\n      <td>756.0</td>\n      <td>352.0</td>\n      <td>552.000000</td>\n      <td>4</td>\n      <td>53280</td>\n      <td>512</td>\n      <td>53280</td>\n      <td>512</td>\n      <td>329</td>\n      <td>NaN</td>\n      <td>...</td>\n      <td>7.782</td>\n      <td>NaN</td>\n      <td>4</td>\n      <td>2</td>\n      <td>33.528656</td>\n      <td>64.654073</td>\n      <td>32</td>\n      <td>APEX_DDQN_BeamRiderNoFrameskip-v4_DPBER_514031</td>\n      <td>BeamRider</td>\n      <td>DPBER</td>\n    </tr>\n    <tr>\n      <th>2</th>\n      <td>756.0</td>\n      <td>352.0</td>\n      <td>602.666667</td>\n      <td>5</td>\n      <td>78400</td>\n      <td>882176</td>\n      <td>78400</td>\n      <td>882176</td>\n      <td>477</td>\n      <td>17.0</td>\n      <td>...</td>\n      <td>8859.413</td>\n      <td>11.982</td>\n      <td>9</td>\n      <td>3</td>\n      <td>98.113581</td>\n      <td>162.767654</td>\n      <td>32</td>\n      <td>APEX_DDQN_BeamRiderNoFrameskip-v4_DPBER_514031</td>\n      <td>BeamRider</td>\n      <td>DPBER</td>\n    </tr>\n    <tr>\n      <th>3</th>\n      <td>756.0</td>\n      <td>308.0</td>\n      <td>562.769231</td>\n      <td>4</td>\n      <td>104000</td>\n      <td>1701376</td>\n      <td>104000</td>\n      <td>1701376</td>\n      <td>637</td>\n      <td>33.0</td>\n      <td>...</td>\n      <td>10339.313</td>\n      <td>4.106</td>\n      <td>13</td>\n      <td>4</td>\n      <td>87.369431</td>\n      <td>250.137085</td>\n      <td>32</td>\n      <td>APEX_DDQN_BeamRiderNoFrameskip-v4_DPBER_514031</td>\n      <td>BeamRider</td>\n      <td>DPBER</td>\n    </tr>\n    <tr>\n      <th>4</th>\n      <td>756.0</td>\n      <td>308.0</td>\n      <td>534.250000</td>\n      <td>3</td>\n      <td>129440</td>\n      <td>2515456</td>\n      <td>129440</td>\n      <td>2515456</td>\n      <td>791</td>\n      <td>50.0</td>\n      <td>...</td>\n      <td>13411.639</td>\n      <td>4.650</td>\n      <td>16</td>\n      <td>5</td>\n      <td>88.745094</td>\n      <td>338.882179</td>\n      <td>32</td>\n      <td>APEX_DDQN_BeamRiderNoFrameskip-v4_DPBER_514031</td>\n      <td>BeamRider</td>\n      <td>DPBER</td>\n    </tr>\n    <tr>\n      <th>...</th>\n      <td>...</td>\n      <td>...</td>\n      <td>...</td>\n      <td>...</td>\n      <td>...</td>\n      <td>...</td>\n      <td>...</td>\n      <td>...</td>\n      <td>...</td>\n      <td>...</td>\n      <td>...</td>\n      <td>...</td>\n      <td>...</td>\n      <td>...</td>\n      <td>...</td>\n      <td>...</td>\n      <td>...</td>\n      <td>...</td>\n      <td>...</td>\n      <td>...</td>\n      <td>...</td>\n    </tr>\n    <tr>\n      <th>161475</th>\n      <td>2150.0</td>\n      <td>515.0</td>\n      <td>1315.100000</td>\n      <td>6</td>\n      <td>127910720</td>\n      <td>839138304</td>\n      <td>127910720</td>\n      <td>839138304</td>\n      <td>781035</td>\n      <td>16723.0</td>\n      <td>...</td>\n      <td>4803.690</td>\n      <td>10.027</td>\n      <td>29278</td>\n      <td>5071</td>\n      <td>33.193845</td>\n      <td>359898.757336</td>\n      <td>8</td>\n      <td>APEX_DDQN_SpaceInvadersNoFrameskip-v4_DPBER_51...</td>\n      <td>SpaceInvaders</td>\n      <td>DPBER</td>\n    </tr>\n    <tr>\n      <th>161476</th>\n      <td>2150.0</td>\n      <td>515.0</td>\n      <td>1312.300000</td>\n      <td>3</td>\n      <td>127935840</td>\n      <td>839302144</td>\n      <td>127935840</td>\n      <td>839302144</td>\n      <td>781189</td>\n      <td>16727.0</td>\n      <td>...</td>\n      <td>2319.787</td>\n      <td>11.075</td>\n      <td>29281</td>\n      <td>5072</td>\n      <td>33.767208</td>\n      <td>359932.524544</td>\n      <td>8</td>\n      <td>APEX_DDQN_SpaceInvadersNoFrameskip-v4_DPBER_51...</td>\n      <td>SpaceInvaders</td>\n      <td>DPBER</td>\n    </tr>\n    <tr>\n      <th>161477</th>\n      <td>2260.0</td>\n      <td>515.0</td>\n      <td>1298.600000</td>\n      <td>4</td>\n      <td>127960960</td>\n      <td>839467520</td>\n      <td>127960960</td>\n      <td>839467520</td>\n      <td>781343</td>\n      <td>16730.0</td>\n      <td>...</td>\n      <td>6187.669</td>\n      <td>5.276</td>\n      <td>29285</td>\n      <td>5073</td>\n      <td>32.214917</td>\n      <td>359964.739461</td>\n      <td>8</td>\n      <td>APEX_DDQN_SpaceInvadersNoFrameskip-v4_DPBER_51...</td>\n      <td>SpaceInvaders</td>\n      <td>DPBER</td>\n    </tr>\n    <tr>\n      <th>161478</th>\n      <td>2260.0</td>\n      <td>365.0</td>\n      <td>1306.400000</td>\n      <td>6</td>\n      <td>127986080</td>\n      <td>839630848</td>\n      <td>127986080</td>\n      <td>839630848</td>\n      <td>781497</td>\n      <td>16733.0</td>\n      <td>...</td>\n      <td>3916.615</td>\n      <td>8.996</td>\n      <td>29291</td>\n      <td>5074</td>\n      <td>34.269591</td>\n      <td>359999.009052</td>\n      <td>8</td>\n      <td>APEX_DDQN_SpaceInvadersNoFrameskip-v4_DPBER_51...</td>\n      <td>SpaceInvaders</td>\n      <td>DPBER</td>\n    </tr>\n    <tr>\n      <th>161479</th>\n      <td>2260.0</td>\n      <td>365.0</td>\n      <td>1294.850000</td>\n      <td>3</td>\n      <td>128011200</td>\n      <td>839795712</td>\n      <td>128011200</td>\n      <td>839795712</td>\n      <td>781651</td>\n      <td>16737.0</td>\n      <td>...</td>\n      <td>4913.234</td>\n      <td>9.886</td>\n      <td>29294</td>\n      <td>5075</td>\n      <td>32.235319</td>\n      <td>360031.244370</td>\n      <td>8</td>\n      <td>APEX_DDQN_SpaceInvadersNoFrameskip-v4_DPBER_51...</td>\n      <td>SpaceInvaders</td>\n      <td>DPBER</td>\n    </tr>\n  </tbody>\n</table>\n<p>161480 rows × 28 columns</p>\n</div>"
     },
     "execution_count": 11,
     "metadata": {},
     "output_type": "execute_result"
    }
   ],
   "source": [
    "filtered_data"
   ],
   "metadata": {
    "collapsed": false,
    "ExecuteTime": {
     "end_time": "2023-08-13T03:06:05.258408900Z",
     "start_time": "2023-08-13T03:06:05.230329300Z"
    }
   },
   "id": "11a0a598c0f3ddd"
  },
  {
   "cell_type": "code",
   "execution_count": null,
   "outputs": [],
   "source": [],
   "metadata": {
    "collapsed": false
   },
   "id": "b6b500fe5a9ec0e4"
  }
 ],
 "metadata": {
  "kernelspec": {
   "display_name": "hpc",
   "language": "python",
   "name": "hpc"
  },
  "language_info": {
   "codemirror_mode": {
    "name": "ipython",
    "version": 3
   },
   "file_extension": ".py",
   "mimetype": "text/x-python",
   "name": "python",
   "nbconvert_exporter": "python",
   "pygments_lexer": "ipython3",
   "version": "3.9.17"
  }
 },
 "nbformat": 4,
 "nbformat_minor": 5
}
