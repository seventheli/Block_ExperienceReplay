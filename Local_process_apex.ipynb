{
 "cells": [
  {
   "cell_type": "code",
   "execution_count": 1,
   "id": "963eea5d",
   "metadata": {
    "ExecuteTime": {
     "end_time": "2023-08-12T17:36:56.258275800Z",
     "start_time": "2023-08-12T17:36:55.567249Z"
    }
   },
   "outputs": [],
   "source": [
    "import matplotlib\n",
    "import pickle\n",
    "import matplotlib.pyplot as plt\n",
    "import pandas as pd\n",
    "import seaborn as sns\n",
    "import ray\n",
    "import json\n",
    "import os\n",
    "import mlflow"
   ]
  },
  {
   "cell_type": "code",
   "execution_count": 2,
   "id": "2289c187",
   "metadata": {
    "ExecuteTime": {
     "end_time": "2023-08-12T17:36:58.120169300Z",
     "start_time": "2023-08-12T17:36:56.261276400Z"
    }
   },
   "outputs": [
    {
     "name": "stderr",
     "output_type": "stream",
     "text": [
      "/home/seventheli/conda/envs/hpc/lib/python3.9/site-packages/tqdm/auto.py:21: TqdmWarning: IProgress not found. Please update jupyter and ipywidgets. See https://ipywidgets.readthedocs.io/en/stable/user_install.html\n",
      "  from .autonotebook import tqdm as notebook_tqdm\n"
     ]
    }
   ],
   "source": [
    "import os\n",
    "import gym\n",
    "import ray\n",
    "import tqdm\n",
    "import json\n",
    "import pickle\n",
    "import argparse\n",
    "from os import path\n",
    "from dynaconf import Dynaconf\n",
    "from ray.rllib.algorithms.dqn import DQN\n",
    "import replay_buffer\n",
    "from replay_buffer.mpber import MultiAgentPrioritizedBlockReplayBuffer, MultiAgentPrioritizedReplayBuffer\n",
    "from ray.rllib.env.wrappers.atari_wrappers import wrap_deepmind\n",
    "from ray.tune.logger import UnifiedLogger\n",
    "from utils import convert_np_arrays, check_path"
   ]
  },
  {
   "cell_type": "code",
   "execution_count": 3,
   "id": "80c97731",
   "metadata": {
    "ExecuteTime": {
     "end_time": "2023-08-12T17:36:58.170752100Z",
     "start_time": "2023-08-12T17:36:58.122150600Z"
    }
   },
   "outputs": [],
   "source": [
    "mlflow.set_tracking_uri(\"http://10.56.238.20:9999\")\n",
    "client = mlflow.MlflowClient()"
   ]
  },
  {
   "cell_type": "code",
   "execution_count": 4,
   "id": "c0c18b62",
   "metadata": {
    "ExecuteTime": {
     "end_time": "2023-08-12T17:37:13.199021800Z",
     "start_time": "2023-08-12T17:37:13.194001Z"
    }
   },
   "outputs": [],
   "source": [
    "# Set the theme for the plot\n",
    "sns.set_theme(style=\"whitegrid\")\n",
    "\n",
    "# Create a color palette\n",
    "palette = sns.color_palette(\"colorblind\", 4)\n",
    "\n",
    "# Create a dictionary that maps each unique value to a color\n",
    "palette_dict = dict(zip([1, 8, 16, 32], palette))"
   ]
  },
  {
   "cell_type": "code",
   "execution_count": 5,
   "id": "902dfa22",
   "metadata": {
    "ExecuteTime": {
     "end_time": "2023-08-12T17:37:13.755536800Z",
     "start_time": "2023-08-12T17:37:13.740532700Z"
    }
   },
   "outputs": [],
   "source": [
    "experiments = { \"BeamRider\": {}, \"Qbert\": {}, \"SpaceInvaders\": {}, \"Breakout\": {}}\n",
    "configs = { \"BeamRider\": {}, \"Qbert\": {}, \"SpaceInvaders\": {}, \"Breakout\": {}}"
   ]
  },
  {
   "cell_type": "code",
   "execution_count": 6,
   "id": "e79682c7",
   "metadata": {
    "ExecuteTime": {
     "end_time": "2023-08-12T17:37:14.324157700Z",
     "start_time": "2023-08-12T17:37:14.319159900Z"
    }
   },
   "outputs": [],
   "source": [
    "client = mlflow.client.MlflowClient()"
   ]
  },
  {
   "cell_type": "code",
   "execution_count": 7,
   "id": "7c640415",
   "metadata": {
    "ExecuteTime": {
     "end_time": "2023-08-12T17:37:15.391536900Z",
     "start_time": "2023-08-12T17:37:15.378517400Z"
    }
   },
   "outputs": [],
   "source": [
    "mapper = {\"Qbert\": \"Q*bert\", \"BeamRider\": \"BeamRider\", \"SpaceInvaders\": \"SpaceInvaders\", \"Breakout\": \"Breakout\"}"
   ]
  },
  {
   "cell_type": "code",
   "execution_count": null,
   "id": "941f4a27",
   "metadata": {
    "is_executing": true,
    "ExecuteTime": {
     "start_time": "2023-08-12T17:37:23.171994400Z"
    }
   },
   "outputs": [
    {
     "name": "stdout",
     "output_type": "stream",
     "text": [
      ".ipynb_checkpoints\n"
     ]
    }
   ],
   "source": [
    "for each in experiments.keys():\n",
    "    path = os.path.join(\"/home/seventheli/backup/Local/Loggings\", each)\n",
    "    experiment_mlflow = mlflow.get_experiment_by_name(mapper[each])\n",
    "    mlflow.set_experiment(mapper.get(each))\n",
    "    for experiment in os.listdir(path):\n",
    "        location = os.path.join(path, experiment)\n",
    "        if len(os.listdir(location)) <= 100:\n",
    "            continue\n",
    "        else:\n",
    "            mlflow_run = client.search_runs(experiment_ids=experiment_mlflow.experiment_id, \n",
    "                   filter_string='attributes.run_name=\"%s\"' % experiment)\n",
    "            if len(mlflow_run) != 0:\n",
    "                run_info = mlflow_run[0]\n",
    "                bz = 1\n",
    "                if run_info.data.params.get(\"sub_buffer_size\", None) is not None:\n",
    "                    bz = int(run_info.data.params.get(\"sub_buffer_size\"))\n",
    "                buffer = run_info.data.params[\"type\"]\n",
    "                experiments[each][experiment] = []\n",
    "                for file in os.listdir(location):\n",
    "                    try:\n",
    "                        with open(os.path.join(location, file), \"r\") as f:\n",
    "                            experiments[each][experiment].append(json.load(f))\n",
    "                    except:\n",
    "                        print(file)\n",
    "                configs[each][experiment] = {\"BZ\": bz, \"Type\": buffer}\n",
    "            else:\n",
    "                checkpoints = os.path.join(\"/home/seventheli/backup/Local/Checkpoints\", each)\n",
    "                checkpoints = os.path.join(checkpoints, experiment)\n",
    "                experiments[each][experiment] = []\n",
    "                for file in os.listdir(location):\n",
    "                    try:\n",
    "                        with open(os.path.join(location, file), \"r\") as f:\n",
    "                            experiments[each][experiment].append(json.load(f))\n",
    "                    except:\n",
    "                        print(file)\n",
    "                if os.path.exists(checkpoints):\n",
    "                    with open(os.path.join(checkpoints, experiment +\"_config.pyl\"), \"rb\") as f:\n",
    "                        _config = pickle.load(f)\n",
    "                        configs[each][experiment] = {\"BZ\": _config[\"replay_buffer_config\"].get(\"sub_buffer_size\", 1),\n",
    "                                                     \"Type\": _config[\"replay_buffer_config\"][\"type\"].__name__}"
   ]
  },
  {
   "cell_type": "code",
   "execution_count": null,
   "id": "1085b6a6",
   "metadata": {
    "is_executing": true
   },
   "outputs": [],
   "source": [
    "selected = {\n",
    "    \"Qbert\": [],\n",
    "    \"Breakout\": [],\n",
    "    \"SpaceInvaders\": [],\n",
    "    \"BeamRider\": [] \n",
    "}\n",
    "for games in configs.keys():\n",
    "    for experiment in configs[games]:\n",
    "        _config = configs[games][experiment]\n",
    "        if _config[\"Type\"] in [\"MultiAgentPrioritizedBlockReplayBuffer\",\n",
    "                               \"MultiAgentPrioritizedReplayBuffer\" ] and experiment[0:4] == \"APEX\":\n",
    "            selected[games].append([experiment, _config[\"BZ\"]])"
   ]
  },
  {
   "cell_type": "code",
   "execution_count": null,
   "id": "fe7dfe7e",
   "metadata": {
    "is_executing": true
   },
   "outputs": [],
   "source": [
    "selected"
   ]
  },
  {
   "cell_type": "code",
   "execution_count": 20,
   "id": "8d4f9662",
   "metadata": {},
   "outputs": [
    {
     "data": {
      "text/plain": [
       "dict_keys(['DDQN_PER_BreakoutNoFrameskip_20230726', 'DQN_ER_BreakoutNoFrameskip_20230705', 'DDQN_PBER_BreakoutNoFrameskip_20230726', 'DQN_BER_BreakoutNoFrameskip_20230719', 'DQN_ER_BreakoutNoFrameskip_20230721', 'DDQN_PER_BreakoutNoFrameskip_20230712', 'DQN_BER_BreakoutNoFrameskip_20230721', 'DQN_BER_BreakoutNoFrameskip_20230705', 'DDQN_PBER_BreakoutNoFrameskip_20230712', 'DDQN_PBER_BreakoutNoFrameskip_20230731'])"
      ]
     },
     "execution_count": 20,
     "metadata": {},
     "output_type": "execute_result"
    }
   ],
   "source": [
    "experiments[each].keys()"
   ]
  },
  {
   "cell_type": "code",
   "execution_count": 21,
   "id": "bb56c2c6",
   "metadata": {},
   "outputs": [
    {
     "ename": "ValueError",
     "evalue": "No objects to concatenate",
     "output_type": "error",
     "traceback": [
      "\u001B[0;31m---------------------------------------------------------------------------\u001B[0m",
      "\u001B[0;31mValueError\u001B[0m                                Traceback (most recent call last)",
      "Cell \u001B[0;32mIn[21], line 25\u001B[0m\n\u001B[1;32m     23\u001B[0m     steps[\u001B[38;5;124m\"\u001B[39m\u001B[38;5;124mexp\u001B[39m\u001B[38;5;124m\"\u001B[39m] \u001B[38;5;241m=\u001B[39m select[\u001B[38;5;241m0\u001B[39m]\n\u001B[1;32m     24\u001B[0m     _experiments\u001B[38;5;241m.\u001B[39mappend(steps)\n\u001B[0;32m---> 25\u001B[0m sampler[each] \u001B[38;5;241m=\u001B[39m \u001B[43mpd\u001B[49m\u001B[38;5;241;43m.\u001B[39;49m\u001B[43mconcat\u001B[49m\u001B[43m(\u001B[49m\u001B[43m_experiments\u001B[49m\u001B[43m)\u001B[49m\n",
      "File \u001B[0;32m~/conda/envs/hpc/lib/python3.9/site-packages/pandas/core/reshape/concat.py:372\u001B[0m, in \u001B[0;36mconcat\u001B[0;34m(objs, axis, join, ignore_index, keys, levels, names, verify_integrity, sort, copy)\u001B[0m\n\u001B[1;32m    369\u001B[0m \u001B[38;5;28;01melif\u001B[39;00m copy \u001B[38;5;129;01mand\u001B[39;00m using_copy_on_write():\n\u001B[1;32m    370\u001B[0m     copy \u001B[38;5;241m=\u001B[39m \u001B[38;5;28;01mFalse\u001B[39;00m\n\u001B[0;32m--> 372\u001B[0m op \u001B[38;5;241m=\u001B[39m \u001B[43m_Concatenator\u001B[49m\u001B[43m(\u001B[49m\n\u001B[1;32m    373\u001B[0m \u001B[43m    \u001B[49m\u001B[43mobjs\u001B[49m\u001B[43m,\u001B[49m\n\u001B[1;32m    374\u001B[0m \u001B[43m    \u001B[49m\u001B[43maxis\u001B[49m\u001B[38;5;241;43m=\u001B[39;49m\u001B[43maxis\u001B[49m\u001B[43m,\u001B[49m\n\u001B[1;32m    375\u001B[0m \u001B[43m    \u001B[49m\u001B[43mignore_index\u001B[49m\u001B[38;5;241;43m=\u001B[39;49m\u001B[43mignore_index\u001B[49m\u001B[43m,\u001B[49m\n\u001B[1;32m    376\u001B[0m \u001B[43m    \u001B[49m\u001B[43mjoin\u001B[49m\u001B[38;5;241;43m=\u001B[39;49m\u001B[43mjoin\u001B[49m\u001B[43m,\u001B[49m\n\u001B[1;32m    377\u001B[0m \u001B[43m    \u001B[49m\u001B[43mkeys\u001B[49m\u001B[38;5;241;43m=\u001B[39;49m\u001B[43mkeys\u001B[49m\u001B[43m,\u001B[49m\n\u001B[1;32m    378\u001B[0m \u001B[43m    \u001B[49m\u001B[43mlevels\u001B[49m\u001B[38;5;241;43m=\u001B[39;49m\u001B[43mlevels\u001B[49m\u001B[43m,\u001B[49m\n\u001B[1;32m    379\u001B[0m \u001B[43m    \u001B[49m\u001B[43mnames\u001B[49m\u001B[38;5;241;43m=\u001B[39;49m\u001B[43mnames\u001B[49m\u001B[43m,\u001B[49m\n\u001B[1;32m    380\u001B[0m \u001B[43m    \u001B[49m\u001B[43mverify_integrity\u001B[49m\u001B[38;5;241;43m=\u001B[39;49m\u001B[43mverify_integrity\u001B[49m\u001B[43m,\u001B[49m\n\u001B[1;32m    381\u001B[0m \u001B[43m    \u001B[49m\u001B[43mcopy\u001B[49m\u001B[38;5;241;43m=\u001B[39;49m\u001B[43mcopy\u001B[49m\u001B[43m,\u001B[49m\n\u001B[1;32m    382\u001B[0m \u001B[43m    \u001B[49m\u001B[43msort\u001B[49m\u001B[38;5;241;43m=\u001B[39;49m\u001B[43msort\u001B[49m\u001B[43m,\u001B[49m\n\u001B[1;32m    383\u001B[0m \u001B[43m\u001B[49m\u001B[43m)\u001B[49m\n\u001B[1;32m    385\u001B[0m \u001B[38;5;28;01mreturn\u001B[39;00m op\u001B[38;5;241m.\u001B[39mget_result()\n",
      "File \u001B[0;32m~/conda/envs/hpc/lib/python3.9/site-packages/pandas/core/reshape/concat.py:429\u001B[0m, in \u001B[0;36m_Concatenator.__init__\u001B[0;34m(self, objs, axis, join, keys, levels, names, ignore_index, verify_integrity, copy, sort)\u001B[0m\n\u001B[1;32m    426\u001B[0m     objs \u001B[38;5;241m=\u001B[39m \u001B[38;5;28mlist\u001B[39m(objs)\n\u001B[1;32m    428\u001B[0m \u001B[38;5;28;01mif\u001B[39;00m \u001B[38;5;28mlen\u001B[39m(objs) \u001B[38;5;241m==\u001B[39m \u001B[38;5;241m0\u001B[39m:\n\u001B[0;32m--> 429\u001B[0m     \u001B[38;5;28;01mraise\u001B[39;00m \u001B[38;5;167;01mValueError\u001B[39;00m(\u001B[38;5;124m\"\u001B[39m\u001B[38;5;124mNo objects to concatenate\u001B[39m\u001B[38;5;124m\"\u001B[39m)\n\u001B[1;32m    431\u001B[0m \u001B[38;5;28;01mif\u001B[39;00m keys \u001B[38;5;129;01mis\u001B[39;00m \u001B[38;5;28;01mNone\u001B[39;00m:\n\u001B[1;32m    432\u001B[0m     objs \u001B[38;5;241m=\u001B[39m \u001B[38;5;28mlist\u001B[39m(com\u001B[38;5;241m.\u001B[39mnot_none(\u001B[38;5;241m*\u001B[39mobjs))\n",
      "\u001B[0;31mValueError\u001B[0m: No objects to concatenate"
     ]
    }
   ],
   "source": [
    "sampler = {}\n",
    "tags = [\"episode_reward_max\", \"episode_reward_min\", \"episode_reward_mean\", \"episodes_this_iter\"]\n",
    "\n",
    "for each in selected.keys():\n",
    "    _experiments = []\n",
    "    for select in selected[each]:\n",
    "        steps = []\n",
    "        for info in experiments[each][select[0]]:\n",
    "            _info = {\n",
    "                **{i : info[\"sampler_results\"][i] for i in tags},\n",
    "                **info[\"counters\"],\n",
    "                **info[\"timers\"],\n",
    "                **{\n",
    "                    \"episodes_total\" : info[\"episodes_total\"],\n",
    "                    \"training_iteration\" : info[\"training_iteration\"],\n",
    "                    \"time_this_iter_s\" : info[\"time_this_iter_s\"],\n",
    "                    \"time_total_s\" : info[\"time_total_s\"]\n",
    "                }\n",
    "            }\n",
    "            steps.append(_info)\n",
    "        steps = pd.DataFrame(steps).sort_values(\"time_total_s\")\n",
    "        steps[\"size\"] = select[1]\n",
    "        steps[\"exp\"] = select[0]\n",
    "        _experiments.append(steps)\n",
    "    sampler[each] = pd.concat(_experiments)"
   ]
  },
  {
   "cell_type": "code",
   "execution_count": null,
   "id": "c4b4ae0b",
   "metadata": {},
   "outputs": [],
   "source": [
    "from matplotlib.ticker import FuncFormatter\n",
    "\n",
    "def x_formatter(x, pos):\n",
    "    return '{:.2f}e7'.format(x/1e7)\n",
    "experiment = list(sampler.keys())[0]\n",
    "data = sampler[experiment]\n",
    "data[[\"exp\", \"size\"]].value_counts()"
   ]
  },
  {
   "cell_type": "code",
   "execution_count": null,
   "id": "1253bb25",
   "metadata": {
    "scrolled": true
   },
   "outputs": [],
   "source": [
    "[i[0] for i in data[[\"exp\", \"size\"]].value_counts().index.to_list()]"
   ]
  },
  {
   "cell_type": "code",
   "execution_count": null,
   "id": "5e09da46",
   "metadata": {},
   "outputs": [],
   "source": [
    "\n",
    "_data = data.copy()[[\"training_iteration\", \"num_env_steps_sampled\", \"time_total_s\",\n",
    "                     \"episode_reward_max\", \"episode_reward_min\", \"episode_reward_mean\", \n",
    "                     \"size\", \"exp\"]]\n",
    "_data.columns = [\"training iteration\", \"sampled frame\", \"time(s)\",\n",
    "                 \"episode reward(max)\", \"episode reward(min)\", \"episode reward(mean)\",\n",
    "                 \"size\", \"exp\"]\n",
    "_data[\"sampled frame\"] = _data[\"sampled frame\"] * 4\n",
    "_data[\"time(h)\"] = _data[\"time(s)\"] / 3600\n",
    "sns.lineplot(x=\"time(h)\", y=\"episode reward(mean)\", hue=\"exp\", data=_data, linewidth=3)"
   ]
  },
  {
   "cell_type": "code",
   "execution_count": null,
   "id": "a00476f0",
   "metadata": {},
   "outputs": [],
   "source": []
  },
  {
   "cell_type": "code",
   "execution_count": null,
   "id": "e1bfc2da",
   "metadata": {},
   "outputs": [],
   "source": []
  },
  {
   "cell_type": "code",
   "execution_count": null,
   "id": "2bd152b0",
   "metadata": {},
   "outputs": [],
   "source": []
  }
 ],
 "metadata": {
  "kernelspec": {
   "display_name": "hpc",
   "language": "python",
   "name": "hpc"
  },
  "language_info": {
   "codemirror_mode": {
    "name": "ipython",
    "version": 3
   },
   "file_extension": ".py",
   "mimetype": "text/x-python",
   "name": "python",
   "nbconvert_exporter": "python",
   "pygments_lexer": "ipython3",
   "version": "3.9.17"
  }
 },
 "nbformat": 4,
 "nbformat_minor": 5
}
