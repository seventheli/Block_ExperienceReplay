{
 "cells": [
  {
   "cell_type": "code",
   "execution_count": 1,
   "outputs": [
    {
     "name": "stderr",
     "output_type": "stream",
     "text": [
      "/home/seventheli/conda/envs/hpc/lib/python3.9/site-packages/tqdm/auto.py:21: TqdmWarning: IProgress not found. Please update jupyter and ipywidgets. See https://ipywidgets.readthedocs.io/en/stable/user_install.html\n",
      "  from .autonotebook import tqdm as notebook_tqdm\n"
     ]
    }
   ],
   "source": [
    "import pandas as pd\n",
    "import numpy as np\n",
    "import matplotlib.pyplot as plt\n",
    "import pandas as pd\n",
    "import seaborn as sns\n",
    "import os\n",
    "import json\n",
    "import pickle\n",
    "from replay_buffer.ber import BlockReplayBuffer\n",
    "from ray.rllib.utils.replay_buffers import ReplayBuffer\n",
    "from replay_buffer.mpber import MultiAgentPrioritizedBlockReplayBuffer\n",
    "from ray.rllib.utils.replay_buffers.multi_agent_prioritized_replay_buffer import MultiAgentPrioritizedReplayBuffer"
   ],
   "metadata": {
    "collapsed": false,
    "ExecuteTime": {
     "end_time": "2023-08-13T03:06:18.875914400Z",
     "start_time": "2023-08-13T03:06:18.032175500Z"
    }
   },
   "id": "2289c187"
  },
  {
   "cell_type": "code",
   "execution_count": 2,
   "outputs": [
    {
     "name": "stdout",
     "output_type": "stream",
     "text": [
      "config not existing for DQN_ER_SpaceInvadersNoFrameskip-v4_511703 in SpaceInvaders\n"
     ]
    }
   ],
   "source": [
    "def generate_configs(base_path):\n",
    "    configs = {}\n",
    "    for env in os.listdir(base_path):\n",
    "        env_path = os.path.join(base_path, env)\n",
    "        if os.path.isdir(env_path):\n",
    "            configs[env] = {}\n",
    "            for experiment in os.listdir(env_path):\n",
    "                experiment_path = os.path.join(env_path, experiment)\n",
    "                if os.path.isdir(experiment_path):\n",
    "                    config_file = os.path.join(experiment_path, experiment + \"_config.pyl\")\n",
    "                    if os.path.exists(config_file):\n",
    "                        with open(config_file, \"rb\") as f:\n",
    "                            configs[env][experiment] = pickle.load(f)\n",
    "                    else:\n",
    "                        print(\"config not existing for %s in %s\" % (experiment, env))\n",
    "    return configs\n",
    "\n",
    "base_path = \"/home/seventheli/JADE_checkpoints/\"\n",
    "configs = generate_configs(base_path)"
   ],
   "metadata": {
    "collapsed": false,
    "ExecuteTime": {
     "end_time": "2023-08-13T03:06:18.885945300Z",
     "start_time": "2023-08-13T03:06:18.847384800Z"
    }
   },
   "id": "f0f546a50930294c"
  },
  {
   "cell_type": "code",
   "execution_count": 3,
   "outputs": [],
   "source": [
    "pd.concat([pd.read_csv(\"jade_er.csv\"), pd.read_csv(\"jade_per.csv\")]).to_csv(\"./jade_all.csv\", index=False)"
   ],
   "metadata": {
    "collapsed": false,
    "ExecuteTime": {
     "end_time": "2023-08-13T03:06:19.786440300Z",
     "start_time": "2023-08-13T03:06:18.877918300Z"
    }
   },
   "id": "d6ffefc0975ed442"
  },
  {
   "cell_type": "code",
   "execution_count": 4,
   "outputs": [],
   "source": [
    "data_path = \"./jade_all.csv\""
   ],
   "metadata": {
    "collapsed": false,
    "ExecuteTime": {
     "end_time": "2023-08-13T03:06:19.794441700Z",
     "start_time": "2023-08-13T03:06:19.787448400Z"
    }
   },
   "id": "34a7d36c9ad25b7f"
  },
  {
   "cell_type": "code",
   "execution_count": 5,
   "outputs": [],
   "source": [
    "mapper = {\n",
    "    ReplayBuffer: \"ER\",\n",
    "    BlockReplayBuffer: \"BER\",\n",
    "    MultiAgentPrioritizedReplayBuffer: \"PER\",\n",
    "    MultiAgentPrioritizedBlockReplayBuffer: \"PBER\",\n",
    "}"
   ],
   "metadata": {
    "collapsed": false,
    "ExecuteTime": {
     "end_time": "2023-08-13T03:06:19.804441800Z",
     "start_time": "2023-08-13T03:06:19.791444300Z"
    }
   },
   "id": "9df21ae0f04c0371"
  },
  {
   "cell_type": "code",
   "execution_count": 6,
   "outputs": [],
   "source": [
    "data = pd.read_csv(data_path)\n",
    "data['env'] = data['exp'].str.split('_').apply(lambda x: x[2].replace(\"NoFrameskip-v4\", \"\"))\n",
    "data[\"buffer\"] = data.apply(lambda x: configs[x[\"env\"]][x[\"exp\"]].get(\"replay_buffer_config\")[\"type\"], axis=1)\n",
    "data[\"buffer\"] = data[\"buffer\"].apply(lambda x: mapper[x])\n",
    "data[\"size\"] = data.apply(lambda x: configs[x[\"env\"]][x[\"exp\"]].get(\"replay_buffer_config\").get(\"sub_buffer_size\", 1), axis=1)\n",
    "data.head()\n",
    "data.to_csv(\"./jade_all.csv\", index=False)"
   ],
   "metadata": {
    "collapsed": false,
    "ExecuteTime": {
     "end_time": "2023-08-13T03:06:22.087381500Z",
     "start_time": "2023-08-13T03:06:19.807440400Z"
    }
   },
   "id": "16bc8d7b6e7b50ac"
  },
  {
   "cell_type": "code",
   "execution_count": 7,
   "outputs": [
    {
     "data": {
      "text/plain": "single_experiment\nTrue    75\nName: count, dtype: int64"
     },
     "execution_count": 7,
     "metadata": {},
     "output_type": "execute_result"
    }
   ],
   "source": [
    "max_exp = data.groupby(['env', 'buffer', 'size'])['exp'].apply(lambda x: x.value_counts().idxmax())\n",
    "\n",
    "filtered_data = data[data['exp'].isin(max_exp.values)].reset_index(drop=True)\n",
    "# Group by 'env', 'size', 'buffer' and aggregate the required metrics\n",
    "summary = filtered_data.groupby(['env', 'size', 'buffer']).agg({\n",
    "    'episode_reward_mean': 'last',  # Last episode reward mean\n",
    "    'num_env_steps_sampled': 'sum', # Total number of data points\n",
    "    'time_total_s': 'last',         # Total time\n",
    "    'exp': 'unique'                 # Experiment names\n",
    "}).reset_index()\n",
    "\n",
    "# Add a column to indicate the number of unique experiments for each group\n",
    "summary['num_experiments'] = summary['exp'].apply(len)\n",
    "\n",
    "# Verify if there's only 1 experiment for each group\n",
    "summary['single_experiment'] = summary['num_experiments'] == 1\n",
    "\n",
    "# Display the summary\n",
    "summary.single_experiment.value_counts()"
   ],
   "metadata": {
    "collapsed": false,
    "ExecuteTime": {
     "end_time": "2023-08-13T03:06:22.177021100Z",
     "start_time": "2023-08-13T03:06:22.093651300Z"
    }
   },
   "id": "40e2b3973c1eaadd"
  },
  {
   "cell_type": "code",
   "execution_count": 8,
   "outputs": [],
   "source": [
    "filtered_data.to_csv(\"jade_all_filtered.csv\", index=False)"
   ],
   "metadata": {
    "collapsed": false,
    "ExecuteTime": {
     "end_time": "2023-08-13T03:06:22.828788800Z",
     "start_time": "2023-08-13T03:06:22.171511700Z"
    }
   },
   "id": "8a22a6cb73014d7c"
  },
  {
   "cell_type": "code",
   "execution_count": 9,
   "outputs": [],
   "source": [
    "# Correctly compute the baseline difference for each environment\n",
    "baseline_diff_corrected = filtered_data.groupby('env').apply(\n",
    "    lambda x: x['episode_reward_mean'].max() - x['episode_reward_mean'].min()\n",
    ")\n",
    "\n",
    "# Using the corrected baseline difference to detect anomalies\n",
    "\n",
    "# Function to detect anomalies based on the corrected baseline\n",
    "def detect_anomalies_baseline(exp_data, env_baseline_diff):\n",
    "    exp_diff = abs(exp_data['episode_reward_mean'].max() - exp_data['episode_reward_mean'].min())\n",
    "    return exp_diff < abs(env_baseline_diff * 0.20)\n",
    "\n",
    "anomalies_baseline_corrected = []\n",
    "\n",
    "# Check each experiment in the data\n",
    "for env, env_data in filtered_data.groupby('env'):\n",
    "    env_baseline_diff = baseline_diff_corrected[env]\n",
    "    for exp, exp_data in env_data.groupby('exp'):\n",
    "        if detect_anomalies_baseline(exp_data, env_baseline_diff):\n",
    "            anomalies_baseline_corrected.append(exp)"
   ],
   "metadata": {
    "collapsed": false,
    "ExecuteTime": {
     "end_time": "2023-08-13T03:06:22.883595500Z",
     "start_time": "2023-08-13T03:06:22.833562700Z"
    }
   },
   "id": "a00577aeb6034f7"
  },
  {
   "cell_type": "code",
   "execution_count": 10,
   "outputs": [],
   "source": [
    "filtered_data = filtered_data[~filtered_data['exp'].isin(anomalies_baseline_corrected)].reset_index(drop=True)"
   ],
   "metadata": {
    "collapsed": false,
    "ExecuteTime": {
     "end_time": "2023-08-13T03:06:22.903102200Z",
     "start_time": "2023-08-13T03:06:22.883595500Z"
    }
   },
   "id": "13b7d97de22aa0ca"
  },
  {
   "cell_type": "code",
   "execution_count": 11,
   "outputs": [],
   "source": [
    "filtered_data.to_csv(\"jade_all_filtered.csv\", index=False)"
   ],
   "metadata": {
    "collapsed": false,
    "ExecuteTime": {
     "end_time": "2023-08-13T03:06:23.539275200Z",
     "start_time": "2023-08-13T03:06:22.903102200Z"
    }
   },
   "id": "c9965904b70c173f"
  },
  {
   "cell_type": "code",
   "execution_count": 11,
   "outputs": [],
   "source": [],
   "metadata": {
    "collapsed": false,
    "ExecuteTime": {
     "end_time": "2023-08-13T03:06:23.593965300Z",
     "start_time": "2023-08-13T03:06:23.541274300Z"
    }
   },
   "id": "11a0a598c0f3ddd"
  }
 ],
 "metadata": {
  "kernelspec": {
   "display_name": "hpc",
   "language": "python",
   "name": "hpc"
  },
  "language_info": {
   "codemirror_mode": {
    "name": "ipython",
    "version": 3
   },
   "file_extension": ".py",
   "mimetype": "text/x-python",
   "name": "python",
   "nbconvert_exporter": "python",
   "pygments_lexer": "ipython3",
   "version": "3.9.17"
  }
 },
 "nbformat": 4,
 "nbformat_minor": 5
}
