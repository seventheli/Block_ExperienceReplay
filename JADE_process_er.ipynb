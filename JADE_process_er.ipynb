{
 "cells": [
  {
   "cell_type": "code",
   "execution_count": 1,
   "id": "963eea5d",
   "metadata": {
    "ExecuteTime": {
     "end_time": "2023-08-12T20:53:30.419172700Z",
     "start_time": "2023-08-12T20:53:30.417173400Z"
    }
   },
   "outputs": [],
   "source": [
    "import matplotlib.pyplot as plt\n",
    "import pandas as pd\n",
    "import seaborn as sns"
   ]
  },
  {
   "cell_type": "code",
   "execution_count": 2,
   "id": "2289c187",
   "metadata": {
    "ExecuteTime": {
     "end_time": "2023-08-12T20:53:32.529959300Z",
     "start_time": "2023-08-12T20:53:31.260190400Z"
    }
   },
   "outputs": [
    {
     "name": "stderr",
     "output_type": "stream",
     "text": [
      "/home/seventheli/conda/envs/hpc/lib/python3.9/site-packages/tqdm/auto.py:21: TqdmWarning: IProgress not found. Please update jupyter and ipywidgets. See https://ipywidgets.readthedocs.io/en/stable/user_install.html\n",
      "  from .autonotebook import tqdm as notebook_tqdm\n"
     ]
    }
   ],
   "source": [
    "import os\n",
    "import json\n",
    "import pickle\n",
    "from replay_buffer.ber import BlockReplayBuffer\n",
    "from ray.rllib.utils.replay_buffers import ReplayBuffer"
   ]
  },
  {
   "cell_type": "code",
   "execution_count": 3,
   "id": "c0c18b62",
   "metadata": {
    "ExecuteTime": {
     "end_time": "2023-08-12T20:53:32.576081300Z",
     "start_time": "2023-08-12T20:53:32.534963900Z"
    }
   },
   "outputs": [],
   "source": [
    "# Set the theme for the plot\n",
    "sns.set_theme(style=\"whitegrid\")\n",
    "\n",
    "# Create a color palette\n",
    "palette = sns.color_palette(\"colorblind\", 4)\n",
    "\n",
    "# Create a dictionary that maps each unique value to a color\n",
    "palette_dict = dict(zip([1, 4, 8, 16], palette))"
   ]
  },
  {
   "cell_type": "code",
   "execution_count": 4,
   "id": "c7ec7850",
   "metadata": {
    "ExecuteTime": {
     "end_time": "2023-08-12T20:53:32.865344800Z",
     "start_time": "2023-08-12T20:53:32.860344800Z"
    }
   },
   "outputs": [],
   "source": [
    "# {i:{} for i in os.listdir(\"/home/seventheli/JADE_checkpoints/\")}"
   ]
  },
  {
   "cell_type": "code",
   "execution_count": 5,
   "id": "902dfa22",
   "metadata": {
    "ExecuteTime": {
     "end_time": "2023-08-12T20:53:33.435367900Z",
     "start_time": "2023-08-12T20:53:33.372364600Z"
    }
   },
   "outputs": [],
   "source": [
    "experiments = {\n",
    "    'Boxing': {},\n",
    "    'Defender': {},\n",
    "    'Frostbite': {},\n",
    "    'Asterix': {},\n",
    "    'FishingDerby': {},\n",
    "    'Asteroids': {},\n",
    "    'BeamRider': {},\n",
    "    'Carnival': {},\n",
    "    'Amidar': {},\n",
    "    'Freeway': {},\n",
    "    'Assault': {},\n",
    "    'SpaceInvaders': {},\n",
    "    'BankHeist': {},\n",
    "    'Berzerk': {},\n",
    "    'Bowling': {},\n",
    "    'BattleZone': {},\n",
    "    'Atlantis': {},\n",
    "    'Gopher': {},\n",
    "    'CrazyClimber': {},\n",
    "    'Centipede': {},\n",
    "    'Qbert': {},\n",
    "    'Breakout': {},\n",
    "    'Alien': {},\n",
    "    'ChopperCommand': {}}\n",
    "\n",
    "configs = {\n",
    "    'Boxing': {},\n",
    "    'Defender': {},\n",
    "    'Frostbite': {},\n",
    "    'Asterix': {},\n",
    "    'FishingDerby': {},\n",
    "    'Asteroids': {},\n",
    "    'BeamRider': {},\n",
    "    'Carnival': {},\n",
    "    'Amidar': {},\n",
    "    'Freeway': {},\n",
    "    'Assault': {},\n",
    "    'SpaceInvaders': {},\n",
    "    'BankHeist': {},\n",
    "    'Berzerk': {},\n",
    "    'Bowling': {},\n",
    "    'BattleZone': {},\n",
    "    'Atlantis': {},\n",
    "    'Gopher': {},\n",
    "    'CrazyClimber': {},\n",
    "    'Centipede': {},\n",
    "    'Qbert': {},\n",
    "    'Breakout': {},\n",
    "    'Alien': {},\n",
    "    'ChopperCommand': {}}\n"
   ]
  },
  {
   "cell_type": "code",
   "execution_count": 6,
   "id": "941f4a27",
   "metadata": {
    "ExecuteTime": {
     "end_time": "2023-08-12T20:55:54.057989300Z",
     "start_time": "2023-08-12T20:53:33.815631100Z"
    }
   },
   "outputs": [
    {
     "name": "stdout",
     "output_type": "stream",
     "text": [
      "<= 100: /home/seventheli/JADE_loggings/Asterix/APEX_DDQN_AsterixNoFrameskip-v4_DPER_514492, 0\n",
      "<= 100: /home/seventheli/JADE_loggings/BeamRider/DDQN_PBER_BeamRiderNoFrameskip-v4_511133, 2\n",
      "error code: 4740.json \n",
      "<= 100: /home/seventheli/JADE_loggings/BeamRider/DQN_ER_BeamRiderNoFrameskip-v4_20230721, 2\n",
      "<= 100: /home/seventheli/JADE_loggings/Amidar/APEX_DDQN_AmidarNoFrameskip-v4_DPER_514491, 0\n",
      "<= 100: /home/seventheli/JADE_loggings/Amidar/DDQN_PBER_AmidarNoFrameskip-v4_514401, 42\n",
      "<= 100: /home/seventheli/JADE_loggings/Assault/DDQN_PBER_AssaultNoFrameskip-v4_514402, 42\n",
      "<= 100: /home/seventheli/JADE_loggings/Assault/APEX_DDQN_AssaultNoFrameskip-v4_DPER_514493, 0\n",
      "<= 100: /home/seventheli/JADE_loggings/SpaceInvaders/DDQN_PBER_SpaceInvadersNoFrameskip-v4_511136, 2\n",
      "<= 100: /home/seventheli/JADE_loggings/SpaceInvaders/DQN_BER_SpaceInvadersNoFrameskip-v4_511134, 2\n",
      "<= 100: /home/seventheli/JADE_loggings/SpaceInvaders/SpaceInvaders, 8\n",
      "<= 100: /home/seventheli/JADE_loggings/Centipede/APEX_DDQN_CentipedeNoFrameskip-v4_DPBER_516155, 39\n",
      "<= 100: /home/seventheli/JADE_loggings/Qbert/DQN_BER_QbertNoFrameskip-v4_511135, 2\n",
      "<= 100: /home/seventheli/JADE_loggings/Qbert/DDQN_PBER_QbertNoFrameskip-v4_511121, 1\n",
      "<= 100: /home/seventheli/JADE_loggings/Qbert/DDQN_PBER_QbertNoFrameskip-v4_511131, 2\n",
      "<= 100: /home/seventheli/JADE_loggings/Qbert/DQN_BER_QbertNoFrameskip-v4_512457, 2\n",
      "<= 100: /home/seventheli/JADE_loggings/Breakout/DQN_ER_BreakoutNoFrameskip-v4_514396, 0\n",
      "<= 100: /home/seventheli/JADE_loggings/Breakout/DDQN_PBER_BreakoutNoFrameskip-v4_511130, 2\n",
      "<= 100: /home/seventheli/JADE_loggings/Breakout/DQN_BER_BreakoutNoFrameskip-v4_511132, 2\n",
      "<= 100: /home/seventheli/JADE_loggings/Breakout/DQN_BER_BreakoutNoFrameskip-v4_514395, 0\n",
      "config not existing DDQN_PER_AlienNoFrameskip-v4_514484\n",
      "<= 100: /home/seventheli/JADE_loggings/Alien/APEX_DDQN_AlienNoFrameskip-v4_DPER_514494, 0\n",
      "config not existing DDQN_PBER_AlienNoFrameskip-v4_514400\n",
      "config not existing DDQN_PER_AlienNoFrameskip-v4_514404\n"
     ]
    }
   ],
   "source": [
    "for each in experiments.keys():\n",
    "    path = os.path.join(\"/home/seventheli/JADE_loggings/\", each)\n",
    "    config = os.path.join(\"/home/seventheli/JADE_checkpoints/\", each)\n",
    "    for experiment in os.listdir(path):\n",
    "        location = os.path.join(path, experiment)\n",
    "        config_location = os.path.join(config, experiment)\n",
    "        if len(os.listdir(location)) <= 100:\n",
    "            print(\"<= 100: %s, %d\" % (location, len(os.listdir(location))))\n",
    "        else:\n",
    "            if os.path.exists(os.path.join(config_location, experiment + \"_config.pyl\")):\n",
    "                with open(os.path.join(config_location, experiment + \"_config.pyl\"), \"rb\") as f:\n",
    "                    configs[each][experiment] = pickle.load(f)\n",
    "                experiments[each][experiment] = []\n",
    "                for file in os.listdir(location):\n",
    "                    try:\n",
    "                        with open(os.path.join(location, file), \"r\") as f:\n",
    "                            experiments[each][experiment].append(json.load(f))\n",
    "                    except:\n",
    "                        print(\"error code: %s \" % file)\n",
    "            else:\n",
    "                print(\"config not existing %s\" % experiment)"
   ]
  },
  {
   "cell_type": "code",
   "execution_count": 7,
   "id": "d53833b3",
   "metadata": {
    "ExecuteTime": {
     "end_time": "2023-08-12T20:55:54.067988500Z",
     "start_time": "2023-08-12T20:55:54.064990900Z"
    }
   },
   "outputs": [],
   "source": [
    "selected = {\n",
    "    'Boxing': [],\n",
    "    'Defender': [],\n",
    "    'Frostbite': [],\n",
    "    'Asterix': [],\n",
    "    'FishingDerby': [],\n",
    "    'Asteroids': [],\n",
    "    'BeamRider': [],\n",
    "    'Carnival': [],\n",
    "    'Amidar': [],\n",
    "    'Freeway': [],\n",
    "    'Assault': [],\n",
    "    'SpaceInvaders': [],\n",
    "    'BankHeist': [],\n",
    "    'Berzerk': [],\n",
    "    'Bowling': [],\n",
    "    'BattleZone': [],\n",
    "    'Atlantis': [],\n",
    "    'Gopher': [],\n",
    "    'CrazyClimber': [],\n",
    "    'Centipede': [],\n",
    "    'Qbert': [],\n",
    "    'Breakout': [],\n",
    "    'Alien': [],\n",
    "    'ChopperCommand': []\n",
    "}"
   ]
  },
  {
   "cell_type": "code",
   "execution_count": 8,
   "id": "1085b6a6",
   "metadata": {
    "ExecuteTime": {
     "end_time": "2023-08-12T20:55:54.078154800Z",
     "start_time": "2023-08-12T20:55:54.067988500Z"
    }
   },
   "outputs": [],
   "source": [
    "for games in configs.keys():\n",
    "    for experiment in configs[games]:\n",
    "        _config = configs[games][experiment]\n",
    "        if _config[\"replay_buffer_config\"][\"type\"] == BlockReplayBuffer and experiment[0:3] == \"DQN\":\n",
    "            selected[games].append([experiment, _config[\"replay_buffer_config\"][\"sub_buffer_size\"]])\n",
    "        elif _config[\"replay_buffer_config\"][\"type\"] == ReplayBuffer and experiment[0:3] == \"DQN\":\n",
    "            selected[games].append([experiment, 1])"
   ]
  },
  {
   "cell_type": "code",
   "execution_count": 9,
   "id": "bb56c2c6",
   "metadata": {
    "ExecuteTime": {
     "end_time": "2023-08-12T20:55:54.688712700Z",
     "start_time": "2023-08-12T20:55:54.084167100Z"
    }
   },
   "outputs": [],
   "source": [
    "sampler = {}\n",
    "tags = [\"episode_reward_max\", \"episode_reward_min\", \"episode_reward_mean\", \"episodes_this_iter\"]\n",
    "\n",
    "for each in selected.keys():\n",
    "    _experiments = []\n",
    "    for select in selected[each]:\n",
    "        steps = []\n",
    "        for info in experiments[each][select[0]]:\n",
    "            _info = {\n",
    "                **{i: info[\"sampler_results\"][i] for i in tags},\n",
    "                **info[\"counters\"],\n",
    "                **info[\"timers\"],\n",
    "                **{\n",
    "                    \"episodes_total\": info[\"episodes_total\"],\n",
    "                    \"training_iteration\": info[\"training_iteration\"],\n",
    "                    \"time_this_iter_s\": info[\"time_this_iter_s\"],\n",
    "                    \"time_total_s\": info[\"time_total_s\"]\n",
    "                }\n",
    "            }\n",
    "            steps.append(_info)\n",
    "        steps = pd.DataFrame(steps).sort_values(\"time_total_s\")\n",
    "        steps[\"size\"] = select[1]\n",
    "        steps[\"exp\"] = select[0]\n",
    "        _experiments.append(steps)\n",
    "    if _experiments:\n",
    "        sampler[each] = pd.concat(_experiments)\n",
    "\n",
    "sampler = {key: sampler[key] for key in sorted(sampler)}"
   ]
  },
  {
   "cell_type": "code",
   "execution_count": 10,
   "id": "d9ffbd27",
   "metadata": {
    "ExecuteTime": {
     "end_time": "2023-08-12T20:55:54.767893200Z",
     "start_time": "2023-08-12T20:55:54.691714700Z"
    }
   },
   "outputs": [
    {
     "data": {
      "text/plain": "                                           exp            env  size  count\n0           DQN_BER_AlienNoFrameskip-v4_514082          Alien     8   1748\n1            DQN_ER_AlienNoFrameskip-v4_514084          Alien     1   1682\n2           DQN_ER_AmidarNoFrameskip-v4_514086         Amidar     1   1625\n3          DQN_BER_AmidarNoFrameskip-v4_514083         Amidar     8   1349\n4          DQN_ER_AssaultNoFrameskip-v4_514087        Assault     1   1989\n..                                         ...            ...   ...    ...\n60  DQN_BER_SpaceInvadersNoFrameskip-v4_511143  SpaceInvaders     4    365\n61  DQN_BER_SpaceInvadersNoFrameskip-v4_515657  SpaceInvaders     8   1891\n62   DQN_ER_SpaceInvadersNoFrameskip-v4_515656  SpaceInvaders     1   1867\n63  DQN_BER_SpaceInvadersNoFrameskip-v4_512468  SpaceInvaders     4   1795\n64  DQN_BER_SpaceInvadersNoFrameskip-v4_512464  SpaceInvaders     8   1784\n\n[65 rows x 4 columns]",
      "text/html": "<div>\n<style scoped>\n    .dataframe tbody tr th:only-of-type {\n        vertical-align: middle;\n    }\n\n    .dataframe tbody tr th {\n        vertical-align: top;\n    }\n\n    .dataframe thead th {\n        text-align: right;\n    }\n</style>\n<table border=\"1\" class=\"dataframe\">\n  <thead>\n    <tr style=\"text-align: right;\">\n      <th></th>\n      <th>exp</th>\n      <th>env</th>\n      <th>size</th>\n      <th>count</th>\n    </tr>\n  </thead>\n  <tbody>\n    <tr>\n      <th>0</th>\n      <td>DQN_BER_AlienNoFrameskip-v4_514082</td>\n      <td>Alien</td>\n      <td>8</td>\n      <td>1748</td>\n    </tr>\n    <tr>\n      <th>1</th>\n      <td>DQN_ER_AlienNoFrameskip-v4_514084</td>\n      <td>Alien</td>\n      <td>1</td>\n      <td>1682</td>\n    </tr>\n    <tr>\n      <th>2</th>\n      <td>DQN_ER_AmidarNoFrameskip-v4_514086</td>\n      <td>Amidar</td>\n      <td>1</td>\n      <td>1625</td>\n    </tr>\n    <tr>\n      <th>3</th>\n      <td>DQN_BER_AmidarNoFrameskip-v4_514083</td>\n      <td>Amidar</td>\n      <td>8</td>\n      <td>1349</td>\n    </tr>\n    <tr>\n      <th>4</th>\n      <td>DQN_ER_AssaultNoFrameskip-v4_514087</td>\n      <td>Assault</td>\n      <td>1</td>\n      <td>1989</td>\n    </tr>\n    <tr>\n      <th>...</th>\n      <td>...</td>\n      <td>...</td>\n      <td>...</td>\n      <td>...</td>\n    </tr>\n    <tr>\n      <th>60</th>\n      <td>DQN_BER_SpaceInvadersNoFrameskip-v4_511143</td>\n      <td>SpaceInvaders</td>\n      <td>4</td>\n      <td>365</td>\n    </tr>\n    <tr>\n      <th>61</th>\n      <td>DQN_BER_SpaceInvadersNoFrameskip-v4_515657</td>\n      <td>SpaceInvaders</td>\n      <td>8</td>\n      <td>1891</td>\n    </tr>\n    <tr>\n      <th>62</th>\n      <td>DQN_ER_SpaceInvadersNoFrameskip-v4_515656</td>\n      <td>SpaceInvaders</td>\n      <td>1</td>\n      <td>1867</td>\n    </tr>\n    <tr>\n      <th>63</th>\n      <td>DQN_BER_SpaceInvadersNoFrameskip-v4_512468</td>\n      <td>SpaceInvaders</td>\n      <td>4</td>\n      <td>1795</td>\n    </tr>\n    <tr>\n      <th>64</th>\n      <td>DQN_BER_SpaceInvadersNoFrameskip-v4_512464</td>\n      <td>SpaceInvaders</td>\n      <td>8</td>\n      <td>1784</td>\n    </tr>\n  </tbody>\n</table>\n<p>65 rows × 4 columns</p>\n</div>"
     },
     "execution_count": 10,
     "metadata": {},
     "output_type": "execute_result"
    }
   ],
   "source": [
    "_all = pd.concat([x[1] for x in sampler.items()])\n",
    "_all[\"env\"] = _all[\"exp\"].apply(lambda x: x.split(\"_\")[2].replace(\"NoFrameskip-v4\", \"\"))\n",
    "_all = _all.value_counts([\"exp\", \"env\", \"size\"])\n",
    "_all = _all.reset_index()\n",
    "_all = _all.drop_duplicates([\"exp\", \"size\"]).sort_values(\"env\")\n",
    "_all = _all.reset_index(drop=True)\n",
    "_all"
   ]
  },
  {
   "cell_type": "code",
   "execution_count": 11,
   "outputs": [],
   "source": [
    "pd.concat([i[1] for i in sampler.items()]).to_csv(\"jade_er.csv\", index=False)"
   ],
   "metadata": {
    "collapsed": false,
    "ExecuteTime": {
     "end_time": "2023-08-12T20:55:55.314707700Z",
     "start_time": "2023-08-12T20:55:54.808009700Z"
    }
   },
   "id": "c916f3f2cf861198"
  },
  {
   "cell_type": "code",
   "execution_count": null,
   "id": "5fdde521",
   "metadata": {
    "scrolled": false,
    "ExecuteTime": {
     "start_time": "2023-08-12T18:38:06.241245Z"
    }
   },
   "outputs": [],
   "source": [
    "fig, axes = plt.subplots(len(sampler), 1, figsize=(20, 180), dpi=100)\n",
    "for e, (k, data) in enumerate(sampler.items()):\n",
    "    _data = data.copy()[[\"training_iteration\", \"num_env_steps_sampled\", \"time_total_s\",\n",
    "                         \"episode_reward_max\", \"episode_reward_min\", \"episode_reward_mean\",\n",
    "                         \"size\", \"exp\"]]\n",
    "    _data.columns = [\"training iteration\", \"sampled frame\", \"time(s)\",\n",
    "                     \"episode reward(max)\", \"episode reward(min)\", \"episode reward(mean)\",\n",
    "                     \"size\", \"exp\"]\n",
    "    _data[\"sampled frame\"] = _data[\"sampled frame\"] * 4\n",
    "    _data[\"time(h)\"] = _data[\"time(s)\"] / 3600\n",
    "    ax = sns.lineplot(x=\"time(h)\", y=\"episode reward(mean)\", hue=\"exp\",\n",
    "                      data=_data.reset_index(drop=True), linewidth=2, ax=axes[e])\n",
    "    ax.set_title(k, fontsize=30, y=1.03)\n",
    "    ax.xaxis.set_tick_params(labelsize=20)\n",
    "    ax.yaxis.set_tick_params(labelsize=20)\n",
    "\n",
    "    # Show x-axis label only if it's the last subplot\n",
    "    if e == len(sampler) - 1:\n",
    "        ax.set_xlabel(\"time(h)\", fontsize=20, labelpad=20)\n",
    "    else:\n",
    "        ax.set_xlabel(None)\n",
    "    ax.set_ylabel(\"episode reward(mean)\", fontsize=20)\n",
    "\n",
    "    # Adjust legend properties if needed\n",
    "    ax.legend(fontsize=18)\n",
    "\n",
    "# Adjust the space between subplots\n",
    "plt.subplots_adjust(hspace=0.4)\n",
    "\n",
    "plt.show()\n"
   ]
  },
  {
   "cell_type": "code",
   "execution_count": 11,
   "id": "a00476f0",
   "metadata": {},
   "outputs": [],
   "source": []
  },
  {
   "cell_type": "code",
   "execution_count": 35,
   "id": "e1bfc2da",
   "metadata": {
    "ExecuteTime": {
     "end_time": "2023-08-08T16:28:24.944291700Z",
     "start_time": "2023-08-08T16:28:24.943283400Z"
    }
   },
   "outputs": [],
   "source": []
  },
  {
   "cell_type": "code",
   "execution_count": 35,
   "id": "2bd152b0",
   "metadata": {
    "ExecuteTime": {
     "end_time": "2023-08-08T16:28:24.945295600Z",
     "start_time": "2023-08-08T16:28:24.944291700Z"
    }
   },
   "outputs": [],
   "source": []
  }
 ],
 "metadata": {
  "kernelspec": {
   "display_name": "hpc",
   "language": "python",
   "name": "hpc"
  },
  "language_info": {
   "codemirror_mode": {
    "name": "ipython",
    "version": 3
   },
   "file_extension": ".py",
   "mimetype": "text/x-python",
   "name": "python",
   "nbconvert_exporter": "python",
   "pygments_lexer": "ipython3",
   "version": "3.9.17"
  }
 },
 "nbformat": 4,
 "nbformat_minor": 5
}
