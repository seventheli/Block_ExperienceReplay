{
 "cells": [
  {
   "cell_type": "code",
   "execution_count": 1,
   "id": "cca49bbe-7674-48b5-b9e6-800be52337ab",
   "metadata": {},
   "outputs": [],
   "source": [
    "import argparse\n",
    "import datetime\n",
    "import gym\n",
    "import json\n",
    "import mlflow\n",
    "import os\n",
    "import pickle\n",
    "import torch\n",
    "import tqdm\n",
    "from algorithms.ddqn_pber import DDQNWithMPBER\n",
    "from algorithms_with_statistics.ddqn_pber import DDQNWithMPBERAndERLogging\n",
    "from algorithms_with_statistics.ddqn_per import DDQNWithMPERAndLogging\n",
    "from dynaconf import Dynaconf\n",
    "from func_timeout import FunctionTimedOut\n",
    "from mlflow.exceptions import MlflowException\n",
    "from os import path\n",
    "from ray.rllib.algorithms.dqn import DQN\n",
    "from ray.rllib.env.wrappers.atari_wrappers import wrap_deepmind\n",
    "from ray.tune.logger import UnifiedLogger\n",
    "from replay_buffer.mpber import MultiAgentPrioritizedBlockReplayBuffer\n",
    "from utils import init_ray, check_path, logs_with_timeout, convert_np_arrays"
   ]
  },
  {
   "cell_type": "code",
   "execution_count": 2,
   "id": "b8869079e0cad18",
   "metadata": {},
   "outputs": [
    {
     "data": {
      "text/plain": [
       "<torch._C.Generator at 0x7f87df3ca090>"
      ]
     },
     "execution_count": 2,
     "metadata": {},
     "output_type": "execute_result"
    }
   ],
   "source": [
    "torch.manual_seed(10)"
   ]
  },
  {
   "cell_type": "code",
   "execution_count": 3,
   "id": "7d02b07b-ade2-47cb-8421-d9729a909ef8",
   "metadata": {
    "ExecuteTime": {
     "end_time": "2023-08-24T15:56:21.779854600Z",
     "start_time": "2023-08-24T15:56:21.757159600Z"
    }
   },
   "outputs": [],
   "source": [
    "run_name = \"examples_pber\"\n",
    "setting = \"./settings/ddqn_per/BeamRider.yml\"\n",
    "log_path = \"/home/seventheli/logging/\"\n",
    "checkpoint_path = \"/home/seventheli/checkpoints/\"\n",
    "sub_buffer_size= 8\n",
    "single_ray = 0\n",
    "with_er_logging = 1"
   ]
  },
  {
   "cell_type": "markdown",
   "id": "e39fa8bf",
   "metadata": {},
   "source": [
    "### Set Ray"
   ]
  },
  {
   "cell_type": "code",
   "execution_count": 4,
   "id": "99dad7db-1398-4016-bc56-fc73f241ea04",
   "metadata": {},
   "outputs": [
    {
     "name": "stderr",
     "output_type": "stream",
     "text": [
      "2023-08-24 17:59:50,698\tINFO worker.py:1529 -- Started a local Ray instance. View the dashboard at \u001B[1m\u001B[32m127.0.0.1:8265 \u001B[39m\u001B[22m\n"
     ]
    }
   ],
   "source": [
    "if single_ray == 1:\n",
    "    init_ray()\n",
    "else:\n",
    "    init_ray(\"./ray_config.yml\")"
   ]
  },
  {
   "cell_type": "markdown",
   "id": "24293b3a",
   "metadata": {},
   "source": [
    "### Settings"
   ]
  },
  {
   "cell_type": "code",
   "execution_count": 5,
   "id": "873d17fa-f762-4a83-b36e-e979653c11b3",
   "metadata": {},
   "outputs": [],
   "source": [
    "settings = Dynaconf(envvar_prefix=\"DYNACONF\", settings_files=setting)"
   ]
  },
  {
   "cell_type": "markdown",
   "id": "d712c22e",
   "metadata": {},
   "source": [
    "### Set MLflow"
   ]
  },
  {
   "cell_type": "code",
   "execution_count": 6,
   "id": "643a6a40-e76a-4ae0-a7da-304646cb2a09",
   "metadata": {},
   "outputs": [],
   "source": [
    "mlflow.set_tracking_uri(settings.mlflow.url)\n",
    "mlflow.set_experiment(experiment_name=settings.mlflow.experiment)\n",
    "mlflow_client = mlflow.tracking.MlflowClient()"
   ]
  },
  {
   "cell_type": "markdown",
   "id": "d69d41e6",
   "metadata": {},
   "source": [
    "### Set hyper-parameters"
   ]
  },
  {
   "cell_type": "code",
   "execution_count": 7,
   "id": "96ca1af1-ed5f-4057-b4b0-102c5921dfe9",
   "metadata": {},
   "outputs": [
    {
     "name": "stdout",
     "output_type": "stream",
     "text": [
      "log path: /home/seventheli/logging/ \n",
      " check_path: /home/seventheli/checkpoints/\n"
     ]
    }
   ],
   "source": [
    "hyper_parameters = settings.dqn.hyper_parameters.to_dict()\n",
    "hyper_parameters[\"logger_config\"] = {\"type\": UnifiedLogger, \"logdir\": checkpoint_path}\n",
    "print(\"log path: %s \\n check_path: %s\" % (log_path, checkpoint_path))"
   ]
  },
  {
   "cell_type": "code",
   "execution_count": 9,
   "id": "6dc19fbd-4d0f-47a2-916a-af62980d7fde",
   "metadata": {},
   "outputs": [
    {
     "name": "stderr",
     "output_type": "stream",
     "text": [
      "/home/seventheli/miniconda3/envs/ber/lib/python3.9/site-packages/gym/envs/registration.py:511: UserWarning: \u001B[33mWARN: Using the latest versioned environment `BeamRiderNoFrameskip-v4` instead of the unversioned environment `BeamRiderNoFrameskip`\u001B[0m\n",
      "  logger.warn(\n",
      "A.L.E: Arcade Learning Environment (version 0.7.5+db37282)\n",
      "[Powered by Stella]\n",
      "2023-08-24 18:00:29,086\tWARNING deprecation.py:47 -- DeprecationWarning: `FrameStack` has been deprecated. This will raise an error in the future!\n",
      "2023-08-24 18:00:29,369\tWARNING algorithm_config.py:488 -- Cannot create DQNConfig from given `config_dict`! Property num_cpus not supported.\n",
      "2023-08-24 18:00:29,371\tWARNING deprecation.py:47 -- DeprecationWarning: `algo = Algorithm(env='BeamRiderNoFrameskip', ...)` has been deprecated. Use `algo = AlgorithmConfig().environment('BeamRiderNoFrameskip').build()` instead. This will raise an error in the future!\n",
      "2023-08-24 18:00:29,373\tINFO multi_agent_prioritized_replay_buffer.py:115 -- PrioritizedMultiAgentReplayBuffer instantiated with underlying_buffer_config. This will overwrite the standard behaviour of the underlying PrioritizedReplayBuffer.\n",
      "2023-08-24 18:00:29,390\tINFO algorithm.py:501 -- Current log_level is WARN. For more information, set 'log_level': 'INFO' / 'DEBUG' or use the -v and -vv flags.\n",
      "\u001B[2m\u001B[36m(RolloutWorker pid=139638)\u001B[0m /home/seventheli/miniconda3/envs/ber/lib/python3.9/site-packages/gym/envs/registration.py:511: UserWarning: \u001B[33mWARN: Using the latest versioned environment `BeamRiderNoFrameskip-v4` instead of the unversioned environment `BeamRiderNoFrameskip`\u001B[0m\n",
      "\u001B[2m\u001B[36m(RolloutWorker pid=139638)\u001B[0m   logger.warn(\n",
      "\u001B[2m\u001B[36m(RolloutWorker pid=139638)\u001B[0m A.L.E: Arcade Learning Environment (version 0.7.5+db37282)\n",
      "\u001B[2m\u001B[36m(RolloutWorker pid=139638)\u001B[0m [Powered by Stella]\n",
      "\u001B[2m\u001B[36m(RolloutWorker pid=139638)\u001B[0m 2023-08-24 18:00:30,715\tWARNING env.py:159 -- Your env reset() method appears to take 'seed' or 'return_info' arguments. Note that these are not yet supported in RLlib. Seeding will take place using 'env.seed()' and the info dict will not be returned from reset.\n",
      "\u001B[2m\u001B[36m(RolloutWorker pid=139638)\u001B[0m 2023-08-24 18:00:30,721\tWARNING deprecation.py:47 -- DeprecationWarning: `FrameStack` has been deprecated. This will raise an error in the future!\n"
     ]
    }
   ],
   "source": [
    "if sub_buffer_size == 0:\n",
    "    # Set run object\n",
    "    run_name = settings.dqn.env + \"_PER_%s\" % run_name\n",
    "    mlflow_run = mlflow.start_run(run_name=run_name,\n",
    "                                  tags={\"mlflow.user\": settings.mlflow.user})\n",
    "    # Log parameters\n",
    "    mlflow.log_params(hyper_parameters[\"replay_buffer_config\"])\n",
    "    mlflow.log_params(\n",
    "        {key: hyper_parameters[key] for key in hyper_parameters.keys() if key not in [\"replay_buffer_config\"]})\n",
    "    if with_er_logging:\n",
    "        algorithm = DDQNWithMPERAndLogging(config=hyper_parameters, env=settings.dqn.env)\n",
    "    else:\n",
    "        algorithm = DQN(config=hyper_parameters, env=settings.dqn.env)\n",
    "else:\n",
    "    # Set run object\n",
    "    run_name = settings.dqn.env + \"_PBER_%s\" % run_name\n",
    "    mlflow_run = mlflow.start_run(run_name=run_name,\n",
    "                                  tags={\"mlflow.user\": settings.mlflow.user})\n",
    "    env_example = wrap_deepmind(gym.make(settings.dqn.env))\n",
    "    # Log parameters\n",
    "    mlflow.log_params({\n",
    "        **settings.dqn.hyper_parameters.replay_buffer_config.to_dict(),\n",
    "        \"type\": \"MultiAgentPrioritizedBlockReplayBuffer\",\n",
    "        \"sub_buffer_size\": sub_buffer_size,\n",
    "    })\n",
    "    mlflow.log_params(\n",
    "        {key: hyper_parameters[key] for key in hyper_parameters.keys() if key not in [\"replay_buffer_config\"]})\n",
    "    # Set BER\n",
    "    replay_buffer_config = {\n",
    "        **settings.dqn.hyper_parameters.replay_buffer_config.to_dict(),\n",
    "        \"type\": MultiAgentPrioritizedBlockReplayBuffer,\n",
    "        \"obs_space\": env_example.observation_space,\n",
    "        \"action_space\": env_example.action_space,\n",
    "        \"sub_buffer_size\": sub_buffer_size,\n",
    "        \"worker_side_prioritization\": False,\n",
    "        \"replay_sequence_length\": 1,\n",
    "    }\n",
    "    hyper_parameters[\"replay_buffer_config\"] = replay_buffer_config\n",
    "    if with_er_logging:\n",
    "        algorithm = DDQNWithMPBERAndERLogging(config=hyper_parameters, env=settings.dqn.env)\n",
    "    else:\n",
    "        algorithm = DDQNWithMPBER(config=hyper_parameters, env=settings.dqn.env)"
   ]
  },
  {
   "cell_type": "code",
   "execution_count": 10,
   "id": "fd565613-7ab3-4d9c-b062-538e743b09f7",
   "metadata": {},
   "outputs": [
    {
     "name": "stdout",
     "output_type": "stream",
     "text": [
      "{'type': <class 'replay_buffer.mpber.MultiAgentPrioritizedBlockReplayBuffer'>, 'capacity': 1000000, 'prioritized_replay_beta': 1, 'prioritized_replay_alpha': 0.5, 'obs_space': Box(0, 255, (84, 84, 4), uint8), 'action_space': Discrete(9), 'sub_buffer_size': 8, 'worker_side_prioritization': False, 'replay_sequence_length': 1}\n"
     ]
    }
   ],
   "source": [
    "print(algorithm.config.to_dict()[\"replay_buffer_config\"])"
   ]
  },
  {
   "cell_type": "markdown",
   "id": "263c4f9a",
   "metadata": {},
   "source": [
    "### Check path available"
   ]
  },
  {
   "cell_type": "code",
   "execution_count": 11,
   "id": "73b347d5-632d-412e-b896-601de32fc7cf",
   "metadata": {},
   "outputs": [],
   "source": [
    "check_path(log_path)\n",
    "log_path = path.join(log_path, run_name)\n",
    "check_path(log_path)\n",
    "check_path(checkpoint_path)\n",
    "checkpoint_path = path.join(checkpoint_path, run_name)\n",
    "check_path(checkpoint_path)"
   ]
  },
  {
   "cell_type": "code",
   "execution_count": 12,
   "id": "a16db5e6411f1aee",
   "metadata": {},
   "outputs": [],
   "source": [
    "with open(os.path.join(checkpoint_path, \"%s_config.pyl\" % run_name), \"wb\") as f:\n",
    "    _ = algorithm.config.to_dict()\n",
    "    _.pop(\"multiagent\")\n",
    "    pickle.dump(_, f)\n",
    "    \n",
    "checkpoint_path = path.join(checkpoint_path, \"results\")\n",
    "check_path(checkpoint_path)\n",
    "mlflow.log_artifacts(checkpoint_path)"
   ]
  },
  {
   "cell_type": "code",
   "execution_count": 13,
   "id": "0102e1e6-25ec-4956-b87b-6f670edcba21",
   "metadata": {},
   "outputs": [],
   "source": [
    "keys_to_extract = {\"episode_reward_max\", \"episode_reward_min\", \"episode_reward_mean\"}"
   ]
  },
  {
   "cell_type": "code",
   "execution_count": 14,
   "id": "67eb57e0-1b51-4293-b5c8-28485a32cc0d",
   "metadata": {},
   "outputs": [
    {
     "name": "stderr",
     "output_type": "stream",
     "text": [
      "  0%|          | 0/9 [00:00<?, ?it/s]2023-08-24 18:00:34,612\tWARNING multi_agent_prioritized_replay_buffer.py:215 -- Adding batches with column `weights` to this buffer while providing weights as a call argument to the add method results in the column being overwritten.\n",
      " 22%|██▏       | 2/9 [00:36<02:09, 18.44s/it]2023-08-24 18:01:11,424\tWARNING deprecation.py:47 -- DeprecationWarning: `concat_samples` has been deprecated. Use `concat_samples() from rllib.policy.sample_batch` instead. This will raise an error in the future!\n",
      "100%|██████████| 9/9 [05:49<00:00, 38.83s/it]\n"
     ]
    }
   ],
   "source": [
    "for i in tqdm.tqdm(range(1, 10000)):\n",
    "    try:\n",
    "        result = algorithm.train()\n",
    "        time_used = result[\"time_total_s\"]\n",
    "        # statistics\n",
    "        sampler = result.get(\"sampler_results\", None)\n",
    "    except:\n",
    "        continue\n",
    "    try:\n",
    "        if i >= 10 and i % settings.log.log == 0:\n",
    "            learner_data = result[\"info\"].copy()\n",
    "            if learner_data[\"learner\"].get(\"time_usage\", None) is not None:\n",
    "                logs_with_timeout(learner_data[\"learner\"].get(\"time_usage\"), step=result[\"episodes_total\"])\n",
    "            learner_data.pop(\"learner\")\n",
    "            logs_with_timeout(learner_data, step=result[\"episodes_total\"])\n",
    "            _save = {key: sampler[key] for key in keys_to_extract if key in sampler}\n",
    "            logs_with_timeout(_save, step=result[\"episodes_total\"])\n",
    "        if i % settings.log.log == 0:\n",
    "            algorithm.save_checkpoint(checkpoint_path)\n",
    "    except FunctionTimedOut:\n",
    "        tqdm.tqdm.write(\"logging failed\")\n",
    "    except MlflowException:\n",
    "        tqdm.tqdm.write(\"logging failed\")\n",
    "    with open(path.join(log_path, str(i) + \".json\"), \"w\") as f:\n",
    "        result[\"config\"] = None\n",
    "        json.dump(convert_np_arrays(result), f)\n",
    "    if time_used >= settings.log.max_time:\n",
    "        break"
   ]
  },
  {
   "cell_type": "code",
   "execution_count": 15,
   "id": "df347c10-1738-4ede-b2cf-db19a5c8b699",
   "metadata": {},
   "outputs": [],
   "source": [
    "mlflow.log_artifacts(log_path)\n",
    "mlflow.log_artifacts(checkpoint_path)"
   ]
  },
  {
   "cell_type": "code",
   "execution_count": null,
   "id": "3d2b3f3f",
   "metadata": {},
   "outputs": [],
   "source": []
  }
 ],
 "metadata": {
  "kernelspec": {
   "display_name": "Python [conda env:ber]",
   "language": "python",
   "name": "conda-env-ber-py"
  },
  "language_info": {
   "codemirror_mode": {
    "name": "ipython",
    "version": 3
   },
   "file_extension": ".py",
   "mimetype": "text/x-python",
   "name": "python",
   "nbconvert_exporter": "python",
   "pygments_lexer": "ipython3",
   "version": "3.9.16"
  }
 },
 "nbformat": 4,
 "nbformat_minor": 5
}
