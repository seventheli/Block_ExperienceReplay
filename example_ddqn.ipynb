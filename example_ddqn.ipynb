{
 "cells": [
  {
   "cell_type": "code",
   "execution_count": 1,
   "id": "cca49bbe-7674-48b5-b9e6-800be52337ab",
   "metadata": {},
   "outputs": [],
   "source": [
    "import os\n",
    "import gym\n",
    "import tqdm\n",
    "import json\n",
    "import torch\n",
    "import mlflow\n",
    "import pickle\n",
    "import argparse\n",
    "import datetime\n",
    "from os import path\n",
    "from dynaconf import Dynaconf\n",
    "from ray.rllib.algorithms.dqn import DQN\n",
    "from algorithms_with_statistics.ddqn_pber import DDQNWithMPBERAndERLogging\n",
    "from algorithms_with_statistics.ddqn_per import DDQNWithMPERAndLogging\n",
    "from algorithms.ddqn_pber import DDQNWithMPBER\n",
    "from replay_buffer.mpber import MultiAgentPrioritizedBlockReplayBuffer\n",
    "from ray.rllib.env.wrappers.atari_wrappers import wrap_deepmind\n",
    "from utils import init_ray, check_path, logs_with_timeout, convert_np_arrays\n",
    "from mlflow.exceptions import MlflowException\n",
    "from func_timeout import FunctionTimedOut"
   ]
  },
  {
   "cell_type": "code",
   "execution_count": null,
   "outputs": [],
   "source": [
    "torch.manual_seed(10)"
   ],
   "metadata": {
    "collapsed": false
   },
   "id": "b8869079e0cad18"
  },
  {
   "cell_type": "code",
   "execution_count": 1,
   "id": "7d02b07b-ade2-47cb-8421-d9729a909ef8",
   "metadata": {
    "ExecuteTime": {
     "end_time": "2023-08-24T15:56:21.779854600Z",
     "start_time": "2023-08-24T15:56:21.757159600Z"
    }
   },
   "outputs": [],
   "source": [
    "run_name = \"examples_pber\"\n",
    "setting = \"./settings/ddqn_per/BeamRider.yml\"\n",
    "log_path = \"~/loggings/\"\n",
    "checkpoint_path = \"~/checkpoints/\"\n",
    "sub_buffer_size= 8\n",
    "single_ray = 0\n",
    "with_er_logging = 1"
   ]
  },
  {
   "cell_type": "raw",
   "source": [
    "### Set Ray"
   ],
   "metadata": {
    "collapsed": false
   },
   "id": "1d98983297b61a2f"
  },
  {
   "cell_type": "code",
   "execution_count": 3,
   "id": "99dad7db-1398-4016-bc56-fc73f241ea04",
   "metadata": {},
   "outputs": [
    {
     "name": "stderr",
     "output_type": "stream",
     "text": [
      "2023-06-28 02:05:04,463\tWARNING utils.py:636 -- Detecting docker specified CPUs. In previous versions of Ray, CPU detection in containers was incorrect. Please ensure that Ray has enough CPUs allocated. As a temporary workaround to revert to the prior behavior, set `RAY_USE_MULTIPROCESSING_CPU_COUNT=1` as an env var before starting Ray. Set the env var: `RAY_DISABLE_DOCKER_CPU_WARNING=1` to mute this warning.\n",
      "2023-06-28 02:05:05,673\tINFO worker.py:1529 -- Started a local Ray instance. View the dashboard at \u001B[1m\u001B[32m127.0.0.1:8265 \u001B[39m\u001B[22m\n"
     ]
    }
   ],
   "source": [
    "if single_ray == 1:\n",
    "    init_ray()\n",
    "else:\n",
    "    init_ray(\"./ray_config.yml\")"
   ]
  },
  {
   "cell_type": "raw",
   "source": [
    "### Settings"
   ],
   "metadata": {
    "collapsed": false
   },
   "id": "bca13e51cd4906b6"
  },
  {
   "cell_type": "code",
   "execution_count": 5,
   "id": "873d17fa-f762-4a83-b36e-e979653c11b3",
   "metadata": {},
   "outputs": [],
   "source": [
    "settings = Dynaconf(envvar_prefix=\"DYNACONF\", settings_files=setting)"
   ]
  },
  {
   "cell_type": "raw",
   "source": [
    "### Set MLflow"
   ],
   "metadata": {
    "collapsed": false
   },
   "id": "2266adbb4495c947"
  },
  {
   "cell_type": "code",
   "execution_count": 8,
   "id": "643a6a40-e76a-4ae0-a7da-304646cb2a09",
   "metadata": {},
   "outputs": [],
   "source": [
    "mlflow.set_tracking_uri(settings.mlflow.url)\n",
    "mlflow.set_experiment(experiment_name=settings.mlflow.experiment)\n",
    "mlflow_client = mlflow.tracking.MlflowClient()"
   ]
  },
  {
   "cell_type": "raw",
   "source": [
    "### Set hyper-parameters"
   ],
   "metadata": {
    "collapsed": false
   },
   "id": "c5b2246d9fb2df6d"
  },
  {
   "cell_type": "code",
   "execution_count": 10,
   "id": "96ca1af1-ed5f-4057-b4b0-102c5921dfe9",
   "metadata": {},
   "outputs": [],
   "source": [
    "hyper_parameters = settings.dqn.hyper_parameters.to_dict()\n",
    "hyper_parameters[\"logger_config\"] = {\"type\": UnifiedLogger, \"logdir\": checkpoint_path}\n",
    "print(\"log path: %s \\n check_path: %s\" % (log_path, checkpoint_path))"
   ]
  },
  {
   "cell_type": "code",
   "execution_count": 11,
   "id": "6dc19fbd-4d0f-47a2-916a-af62980d7fde",
   "metadata": {},
   "outputs": [],
   "source": [
    "if sub_buffer_size == 0:\n",
    "    # Set run object\n",
    "    run_name = run_name + \"_\" + settings.dqn.env + \"_PER_%d\" % parser.parse_args().run_name\n",
    "    mlflow_run = mlflow.start_run(run_name=run_name,\n",
    "                                  tags={\"mlflow.user\": settings.mlflow.user})\n",
    "    # Log parameters\n",
    "    mlflow.log_params(hyper_parameters[\"replay_buffer_config\"])\n",
    "    mlflow.log_params(\n",
    "        {key: hyper_parameters[key] for key in hyper_parameters.keys() if key not in [\"replay_buffer_config\"]})\n",
    "    if with_er_logging:\n",
    "        algorithm = DDQNWithMPERAndLogging(config=hyper_parameters, env=settings.dqn.env)\n",
    "    else:\n",
    "        algorithm = DQN(config=hyper_parameters, env=settings.dqn.env)\n",
    "else:\n",
    "    # Set run object\n",
    "    run_name = run_name + \"_\" + settings.dqn.env + \"_PBER_%d\" % parser.parse_args().run_name\n",
    "    mlflow_run = mlflow.start_run(run_name=run_name,\n",
    "                                  tags={\"mlflow.user\": settings.mlflow.user})\n",
    "    env_example = wrap_deepmind(gym.make(settings.dqn.env))\n",
    "    # Log parameters\n",
    "    mlflow.log_params({\n",
    "        **settings.dqn.hyper_parameters.replay_buffer_config.to_dict(),\n",
    "        \"type\": \"MultiAgentPrioritizedBlockReplayBuffer\",\n",
    "        \"sub_buffer_size\": sub_buffer_size,\n",
    "    })\n",
    "    mlflow.log_params(\n",
    "        {key: hyper_parameters[key] for key in hyper_parameters.keys() if key not in [\"replay_buffer_config\"]})\n",
    "    # Set BER\n",
    "    replay_buffer_config = {\n",
    "        **settings.dqn.hyper_parameters.replay_buffer_config.to_dict(),\n",
    "        \"type\": MultiAgentPrioritizedBlockReplayBuffer,\n",
    "        \"obs_space\": env_example.observation_space,\n",
    "        \"action_space\": env_example.action_space,\n",
    "        \"sub_buffer_size\": sub_buffer_size,\n",
    "        \"worker_side_prioritization\": False,\n",
    "        \"replay_sequence_length\": 1,\n",
    "    }\n",
    "    hyper_parameters[\"replay_buffer_config\"] = replay_buffer_config\n",
    "    if with_er_logging:\n",
    "        algorithm = DDQNWithMPBERAndERLogging(config=hyper_parameters, env=settings.dqn.env)\n",
    "    else:\n",
    "        algorithm = DDQNWithMPBER(config=hyper_parameters, env=settings.dqn.env)"
   ]
  },
  {
   "cell_type": "code",
   "execution_count": 12,
   "id": "fd565613-7ab3-4d9c-b062-538e743b09f7",
   "metadata": {},
   "outputs": [],
   "source": [
    "print(algorithm.config.to_dict()[\"replay_buffer_config\"])"
   ]
  },
  {
   "cell_type": "raw",
   "source": [
    "### Check path available"
   ],
   "metadata": {
    "collapsed": false
   },
   "id": "3c5a4d8d4cdd9f49"
  },
  {
   "cell_type": "code",
   "execution_count": 14,
   "id": "73b347d5-632d-412e-b896-601de32fc7cf",
   "metadata": {},
   "outputs": [],
   "source": [
    "check_path(log_path)\n",
    "log_path = path.join(log_path, run_name)\n",
    "check_path(log_path)\n",
    "check_path(checkpoint_path)\n",
    "checkpoint_path = path.join(checkpoint_path, run_name)\n",
    "check_path(checkpoint_path)"
   ]
  },
  {
   "cell_type": "code",
   "execution_count": null,
   "outputs": [],
   "source": [
    "with open(os.path.join(checkpoint_path, \"%s_config.pyl\" % run_name), \"wb\") as f:\n",
    "    _ = algorithm.config.to_dict()\n",
    "    _.pop(\"multiagent\")\n",
    "    pickle.dump(_, f)\n",
    "    \n",
    "checkpoint_path = path.join(checkpoint_path, \"results\")\n",
    "check_path(checkpoint_path)\n",
    "mlflow.log_artifacts(checkpoint_path)"
   ],
   "metadata": {
    "collapsed": false
   },
   "id": "a16db5e6411f1aee"
  },
  {
   "cell_type": "code",
   "execution_count": 15,
   "id": "0102e1e6-25ec-4956-b87b-6f670edcba21",
   "metadata": {},
   "outputs": [],
   "source": [
    "keys_to_extract = {\"episode_reward_max\", \"episode_reward_min\", \"episode_reward_mean\"}"
   ]
  },
  {
   "cell_type": "code",
   "execution_count": null,
   "id": "67eb57e0-1b51-4293-b5c8-28485a32cc0d",
   "metadata": {},
   "outputs": [
    {
     "name": "stderr",
     "output_type": "stream",
     "text": [
      "  0%|          | 0/999 [00:00<?, ?it/s]"
     ]
    }
   ],
   "source": [
    "for i in tqdm.tqdm(range(1, 10000)):\n",
    "    try:\n",
    "        result = algorithm.train()\n",
    "        time_used = result[\"time_total_s\"]\n",
    "        # statistics\n",
    "        sampler = result.get(\"sampler_results\", None)\n",
    "    except:\n",
    "        continue\n",
    "    try:\n",
    "        if i >= 10 and i % settings.log.log == 0:\n",
    "            learner_data = result[\"info\"].copy()\n",
    "            if learner_data[\"learner\"].get(\"time_usage\", None) is not None:\n",
    "                logs_with_timeout(learner_data[\"learner\"].get(\"time_usage\"), step=result[\"episodes_total\"])\n",
    "            learner_data.pop(\"learner\")\n",
    "            logs_with_timeout(learner_data, step=result[\"episodes_total\"])\n",
    "            _save = {key: sampler[key] for key in keys_to_extract if key in sampler}\n",
    "            logs_with_timeout(_save, step=result[\"episodes_total\"])\n",
    "        if i % settings.log.log == 0:\n",
    "            algorithm.save_checkpoint(checkpoint_path)\n",
    "    except FunctionTimedOut:\n",
    "        tqdm.tqdm.write(\"logging failed\")\n",
    "    except MlflowException:\n",
    "        tqdm.tqdm.write(\"logging failed\")\n",
    "    with open(path.join(log_path, str(i) + \".json\"), \"w\") as f:\n",
    "        result[\"config\"] = None\n",
    "        json.dump(convert_np_arrays(result), f)\n",
    "    if time_used >= settings.log.max_time:\n",
    "        break"
   ]
  },
  {
   "cell_type": "code",
   "execution_count": null,
   "id": "df347c10-1738-4ede-b2cf-db19a5c8b699",
   "metadata": {},
   "outputs": [],
   "source": [
    "mlflow.log_artifacts(log_path)\n",
    "mlflow.log_artifacts(checkpoint_path)\n"
   ]
  }
 ],
 "metadata": {
  "kernelspec": {
   "name": "python3",
   "language": "python",
   "display_name": "Python 3 (ipykernel)"
  },
  "language_info": {
   "codemirror_mode": {
    "name": "ipython",
    "version": 3
   },
   "file_extension": ".py",
   "mimetype": "text/x-python",
   "name": "python",
   "nbconvert_exporter": "python",
   "pygments_lexer": "ipython3",
   "version": "3.9.16"
  }
 },
 "nbformat": 4,
 "nbformat_minor": 5
}
