{
 "cells": [
  {
   "cell_type": "code",
   "execution_count": 1,
   "id": "963eea5d",
   "metadata": {
    "ExecuteTime": {
     "end_time": "2023-08-14T11:43:01.813903800Z",
     "start_time": "2023-08-14T11:43:01.812903300Z"
    }
   },
   "outputs": [],
   "source": [
    "import matplotlib.pyplot as plt\n",
    "import pandas as pd\n",
    "import seaborn as sns"
   ]
  },
  {
   "cell_type": "code",
   "execution_count": 2,
   "id": "2289c187",
   "metadata": {
    "ExecuteTime": {
     "end_time": "2023-08-14T11:43:02.649032900Z",
     "start_time": "2023-08-14T11:43:01.815904400Z"
    }
   },
   "outputs": [
    {
     "name": "stderr",
     "output_type": "stream",
     "text": [
      "/home/seventheli/conda/envs/hpc/lib/python3.9/site-packages/tqdm/auto.py:21: TqdmWarning: IProgress not found. Please update jupyter and ipywidgets. See https://ipywidgets.readthedocs.io/en/stable/user_install.html\n",
      "  from .autonotebook import tqdm as notebook_tqdm\n"
     ]
    }
   ],
   "source": [
    "import os\n",
    "import json\n",
    "import pickle\n",
    "from ray.rllib.utils.replay_buffers import MultiAgentPrioritizedReplayBuffer"
   ]
  },
  {
   "cell_type": "code",
   "execution_count": 6,
   "id": "c0c18b62",
   "metadata": {
    "ExecuteTime": {
     "end_time": "2023-08-14T11:43:20.384410200Z",
     "start_time": "2023-08-14T11:43:20.365409400Z"
    }
   },
   "outputs": [],
   "source": [
    "# Set the theme for the plot\n",
    "sns.set_theme(style=\"whitegrid\")\n",
    "\n",
    "# Create a color palette\n",
    "palette = sns.color_palette(\"muted\", 4)\n",
    "\n",
    "# Create a dictionary that maps each unique value to a color\n",
    "palette_dict = dict(zip([32, 128, 512, 2048], palette))\n"
   ]
  },
  {
   "cell_type": "code",
   "execution_count": 7,
   "id": "c7ec7850",
   "metadata": {
    "ExecuteTime": {
     "end_time": "2023-08-14T11:43:21.718581Z",
     "start_time": "2023-08-14T11:43:21.716579900Z"
    }
   },
   "outputs": [],
   "source": [
    "# {i:{} for i in os.listdir(\"/home/seventheli/JADE_checkpoints/\")}"
   ]
  },
  {
   "cell_type": "code",
   "execution_count": 8,
   "id": "902dfa22",
   "metadata": {
    "ExecuteTime": {
     "end_time": "2023-08-14T11:43:22.110163100Z",
     "start_time": "2023-08-14T11:43:22.059144700Z"
    }
   },
   "outputs": [],
   "source": [
    "experiments = {\n",
    "    'Boxing': {},\n",
    "    'Defender': {},\n",
    "    'Frostbite': {},\n",
    "    'Asterix': {},\n",
    "    'FishingDerby': {},\n",
    "    'Asteroids': {},\n",
    "    'BeamRider': {},\n",
    "    'Carnival': {},\n",
    "    'Amidar': {},\n",
    "    'Freeway': {},\n",
    "    'Assault': {},\n",
    "    'SpaceInvaders': {},\n",
    "    'BankHeist': {},\n",
    "    'Berzerk': {},\n",
    "    'Bowling': {},\n",
    "    'BattleZone': {},\n",
    "    'Atlantis': {},\n",
    "    'Gopher': {},\n",
    "    'CrazyClimber': {},\n",
    "    'Centipede': {},\n",
    "    'Qbert': {},\n",
    "    'Breakout': {},\n",
    "    'Alien': {},\n",
    "    'ChopperCommand': {}}\n",
    "\n",
    "configs = {\n",
    "    'Boxing': {},\n",
    "    'Defender': {},\n",
    "    'Frostbite': {},\n",
    "    'Asterix': {},\n",
    "    'FishingDerby': {},\n",
    "    'Asteroids': {},\n",
    "    'BeamRider': {},\n",
    "    'Carnival': {},\n",
    "    'Amidar': {},\n",
    "    'Freeway': {},\n",
    "    'Assault': {},\n",
    "    'SpaceInvaders': {},\n",
    "    'BankHeist': {},\n",
    "    'Berzerk': {},\n",
    "    'Bowling': {},\n",
    "    'BattleZone': {},\n",
    "    'Atlantis': {},\n",
    "    'Gopher': {},\n",
    "    'CrazyClimber': {},\n",
    "    'Centipede': {},\n",
    "    'Qbert': {},\n",
    "    'Breakout': {},\n",
    "    'Alien': {},\n",
    "    'ChopperCommand': {}}\n"
   ]
  },
  {
   "cell_type": "code",
   "execution_count": 10,
   "id": "941f4a27",
   "metadata": {
    "ExecuteTime": {
     "end_time": "2023-08-14T11:43:56.286057Z",
     "start_time": "2023-08-14T11:43:55.666730Z"
    }
   },
   "outputs": [
    {
     "name": "stdout",
     "output_type": "stream",
     "text": [
      "<= 5: /home/seventheli/motivation_frames/logging/BeamRider/DDQN_PER_BeamRiderNoFrameskip-v4_517704, 2\n"
     ]
    }
   ],
   "source": [
    "for each in experiments.keys():\n",
    "    path = os.path.join(\"/home/seventheli/motivation_frames/logging\", each)\n",
    "    config = os.path.join(\"/home/seventheli/motivation_frames/checkpoints\", each)\n",
    "    if os.path.exists(path):\n",
    "        for experiment in os.listdir(path):\n",
    "            location = os.path.join(path, experiment)\n",
    "            config_location = os.path.join(config, experiment)\n",
    "            if len(os.listdir(location)) <= 5:\n",
    "                print(\"<= 5: %s, %d\" % (location, len(os.listdir(location))))\n",
    "            else:\n",
    "                if os.path.exists(os.path.join(config_location, experiment + \"_config.pyl\")):\n",
    "                    with open(os.path.join(config_location, experiment + \"_config.pyl\"), \"rb\") as f:\n",
    "                        configs[each][experiment] = pickle.load(f)\n",
    "                    experiments[each][experiment] = []\n",
    "                    for file in os.listdir(location):\n",
    "                        try:\n",
    "                            with open(os.path.join(location, file), \"r\") as f:\n",
    "                                experiments[each][experiment].append(json.load(f))\n",
    "                        except:\n",
    "                            print(\"error code: %s \" % file)\n",
    "                else:\n",
    "                    print(\"config not existing %s\" % experiment)"
   ]
  },
  {
   "cell_type": "code",
   "execution_count": 11,
   "id": "d53833b3",
   "metadata": {
    "ExecuteTime": {
     "end_time": "2023-08-14T11:44:02.155607200Z",
     "start_time": "2023-08-14T11:44:02.148608400Z"
    }
   },
   "outputs": [],
   "source": [
    "selected = {\n",
    "    'Boxing': [],\n",
    "    'Defender': [],\n",
    "    'Frostbite': [],\n",
    "    'Asterix': [],\n",
    "    'FishingDerby': [],\n",
    "    'Asteroids': [],\n",
    "    'BeamRider': [],\n",
    "    'Carnival': [],\n",
    "    'Amidar': [],\n",
    "    'Freeway': [],\n",
    "    'Assault': [],\n",
    "    'SpaceInvaders': [],\n",
    "    'BankHeist': [],\n",
    "    'Berzerk': [],\n",
    "    'Bowling': [],\n",
    "    'BattleZone': [],\n",
    "    'Atlantis': [],\n",
    "    'Gopher': [],\n",
    "    'CrazyClimber': [],\n",
    "    'Centipede': [],\n",
    "    'Qbert': [],\n",
    "    'Breakout': [],\n",
    "    'Alien': [],\n",
    "    'ChopperCommand': []\n",
    "}"
   ]
  },
  {
   "cell_type": "code",
   "execution_count": 13,
   "id": "1085b6a6",
   "metadata": {
    "ExecuteTime": {
     "end_time": "2023-08-14T11:44:17.920305300Z",
     "start_time": "2023-08-14T11:44:17.899284500Z"
    }
   },
   "outputs": [],
   "source": [
    "for games in configs.keys():\n",
    "    for experiment in configs[games]:\n",
    "        _config = configs[games][experiment]\n",
    "        if _config[\"replay_buffer_config\"][\"type\"] == MultiAgentPrioritizedReplayBuffer and experiment[0:4] == \"APEX\":\n",
    "            selected[games].append([experiment, _config[\"train_batch_size\"]])"
   ]
  },
  {
   "cell_type": "code",
   "execution_count": 14,
   "id": "bb56c2c6",
   "metadata": {
    "ExecuteTime": {
     "end_time": "2023-08-14T11:44:19.992946700Z",
     "start_time": "2023-08-14T11:44:19.945787500Z"
    }
   },
   "outputs": [],
   "source": [
    "sampler = {}\n",
    "tags = [\"episode_reward_max\", \"episode_reward_min\", \"episode_reward_mean\", \"episodes_this_iter\"]\n",
    "\n",
    "for each in selected.keys():\n",
    "    _experiments = []\n",
    "    for select in selected[each]:\n",
    "        steps = []\n",
    "        for info in experiments[each][select[0]]:\n",
    "            _info = {\n",
    "                **{i: info[\"sampler_results\"][i] for i in tags},\n",
    "                **info[\"counters\"],\n",
    "                **info[\"timers\"],\n",
    "                **{\n",
    "                    \"episodes_total\": info[\"episodes_total\"],\n",
    "                    \"training_iteration\": info[\"training_iteration\"],\n",
    "                    \"time_this_iter_s\": info[\"time_this_iter_s\"],\n",
    "                    \"time_total_s\": info[\"time_total_s\"]\n",
    "                }\n",
    "            }\n",
    "            steps.append(_info)\n",
    "        steps = pd.DataFrame(steps).sort_values(\"time_total_s\")\n",
    "        steps[\"bz\"] = select[1]\n",
    "        steps[\"exp\"] = select[0]\n",
    "        steps[\"env\"] = each.replace(\"NoFrameskip-v4\", \"\")\n",
    "        _experiments.append(steps)\n",
    "    if _experiments:\n",
    "        sampler[each] = pd.concat(_experiments)\n",
    "\n",
    "sampler = {key: sampler[key] for key in sorted(sampler)}"
   ]
  },
  {
   "cell_type": "code",
   "execution_count": 15,
   "outputs": [],
   "source": [
    "pd.concat([i[1].copy() for i in sampler.items()]).to_csv(\"./ana_apex.csv\", index=False)"
   ],
   "metadata": {
    "collapsed": false,
    "ExecuteTime": {
     "end_time": "2023-08-14T11:44:25.947441200Z",
     "start_time": "2023-08-14T11:44:25.926929400Z"
    }
   },
   "id": "6184f8796bb69b5f"
  },
  {
   "cell_type": "code",
   "execution_count": 23,
   "outputs": [
    {
     "data": {
      "text/plain": "<Figure size 700x300 with 1 Axes>",
      "image/png": "[encoded data removed]"
     },
     "metadata": {},
     "output_type": "display_data"
    }
   ],
   "source": [
    "summary_image = pd.concat([i[1].copy() for i in sampler.items()])\n",
    "# 1. 根据每个env和bz，选择time_total_s最大的实验\n",
    "summary_image = summary_image.groupby(['env', 'bz']).apply(lambda x: x[x['time_total_s'] == x['time_total_s'].max()]).reset_index(drop=True)\n",
    "\n",
    "# Recomputing necessary columns and groupings\n",
    "summary_image[\"num_env_steps_sampled\"] = summary_image[\"num_env_steps_sampled\"] / summary_image[\"time_total_s\"]\n",
    "summary_image[\"num_env_steps_trained\"] = summary_image[\"num_env_steps_trained\"] / summary_image[\"time_total_s\"]\n",
    "mean_values_env = summary_image.groupby(['bz', 'env'])[['num_env_steps_sampled', 'num_env_steps_trained']].mean().reset_index()\n",
    "unique_bz = mean_values_env['bz'].unique()\n",
    "unique_bz = unique_bz[unique_bz != 32]\n",
    "unique_env = mean_values_env['env'].unique()\n",
    "colors = plt.cm.tab10.colors\n",
    "bar_width = 0.4\n",
    "main_tick_positions = [i * (len(unique_env) + 1) + (len(unique_env) - 1) / 2 for i in range(len(unique_bz))]\n",
    "\n",
    "# Adjusting the figure size for AAAI's two-column format and replotting\n",
    "figure_path_adjusted = \"/mnt/data/mean_n_processed_transitions_er_adjusted.png\"\n",
    "plt.figure(figsize=[7, 3])\n",
    "ax = plt.gca()\n",
    "# Setting the y-axis to logarithmic scale\n",
    "plt.yscale('log')\n",
    "for i, bz in enumerate(unique_bz):\n",
    "        subset_bz = mean_values_env[mean_values_env['bz'] == bz]\n",
    "        for j, (index, row) in enumerate(subset_bz.iterrows()):\n",
    "            color = colors[j % len(colors)]\n",
    "            pos = i * (len(unique_env) + 1) + j\n",
    "            ax.bar(pos, row['num_env_steps_sampled'], width=bar_width, color=color, alpha=0.1, label=f'Sampled' if i == 0 and j == 0 else \"\")\n",
    "            ax.bar(pos, row['num_env_steps_trained'], width=bar_width, color=color, alpha=0.9, label=f'Trained' if i == 0 and j == 0 else \"\")\n",
    "\n",
    "for j, env in enumerate(unique_env):\n",
    "    plt.plot([], color=colors[j % len(colors)], label=env)\n",
    "\n",
    "ax.set_xticks(main_tick_positions)\n",
    "ax.set_xticklabels(unique_bz, fontsize=10)\n",
    "ax.set_xlabel('Train Batch Size', fontsize=12)\n",
    "ax.set_ylabel('Mean Values', fontsize=12)\n",
    "ax.set_title('Processed transitions/s by Ape-X DDQN with DPER', fontsize=14)\n",
    "ax.legend(bbox_to_anchor=(0.5, -0.3), loc='upper center', ncol=len(unique_env), fontsize=8)\n",
    "plt.tight_layout()\n",
    "plt.subplots_adjust(bottom=0.3)\n",
    "\n",
    "plt.savefig(\"./images/analysis/mean_n_processed_transitions_per.png\")\n",
    "plt.show()"
   ],
   "metadata": {
    "collapsed": false,
    "ExecuteTime": {
     "end_time": "2023-08-14T11:50:00.556823700Z",
     "start_time": "2023-08-14T11:50:00.208970100Z"
    }
   },
   "id": "d28a5ab57e48dcc0"
  },
  {
   "cell_type": "code",
   "execution_count": null,
   "outputs": [],
   "source": [],
   "metadata": {
    "collapsed": false
   },
   "id": "f6db7f3ed821359f"
  }
 ],
 "metadata": {
  "kernelspec": {
   "display_name": "hpc",
   "language": "python",
   "name": "hpc"
  },
  "language_info": {
   "codemirror_mode": {
    "name": "ipython",
    "version": 3
   },
   "file_extension": ".py",
   "mimetype": "text/x-python",
   "name": "python",
   "nbconvert_exporter": "python",
   "pygments_lexer": "ipython3",
   "version": "3.9.17"
  }
 },
 "nbformat": 4,
 "nbformat_minor": 5
}
